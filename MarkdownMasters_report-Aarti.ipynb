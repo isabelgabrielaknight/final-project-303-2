{
 "cells": [
  {
   "cell_type": "raw",
   "id": "33dd6c4c",
   "metadata": {},
   "source": [
    "---\n",
    "title: \"Project Code\"\n",
    "subtitle: Markdown Masters\n",
    "author: Isabel Knight, Aarti Pappu, Lilly Sorkin, and Artharva Weling \n",
    "date: 03/13/2023\n",
    "number-sections: true\n",
    "abstract: _This file contains the code for the project on <>, as part of the STAT303-2 course in Winter 2023_.\n",
    "format: \n",
    "  html:\n",
    "    toc: true\n",
    "    toc-title: Contents\n",
    "    self-contained: true\n",
    "    font-size: 100%\n",
    "    toc-depth: 4\n",
    "    mainfont: serif\n",
    "jupyter: python3\n",
    "---"
   ]
  },
  {
   "cell_type": "markdown",
   "id": "aba5ee91",
   "metadata": {},
   "source": [
    "## Length of the report {-}\n",
    "The length of the report must be no more than 15 pages, when printed as PDF. However, there is no requirement on the minimum number of pages.\n",
    "\n",
    "You may put additional stuff as Appendix. You may refer to the Appendix in the main report to support your arguments. However, your appendix is unlikely to be checked while grading, unless the grader deems it necessary. The appendix, references, and information about GitHub and individual contribution will not be included in the page count, and there is no limit on the length of the appendix.\n",
    "\n",
    "**Delete this section from the report, when using this template.** "
   ]
  },
  {
   "cell_type": "markdown",
   "id": "93d3d9ed",
   "metadata": {},
   "source": [
    "## Code should be put separately in the code template {-}\n",
    "Your report should be in a research-paper like style. If there is something that can only be explained by showing the code, then you may put it, otherwise do not put the code in the report. We will check your code in the code template. \n",
    "\n",
    "**Delete this section from the report, when using this template.** "
   ]
  },
  {
   "cell_type": "markdown",
   "id": "0116f49b",
   "metadata": {},
   "source": [
    "## Background / Motivation\n",
    "\n",
    "What motivated you to work on this problem?\n",
    "\n",
    "Mention any background about the problem, if it is required to understand your analysis later on."
   ]
  },
  {
   "cell_type": "code",
   "execution_count": null,
   "id": "bd0da149",
   "metadata": {},
   "outputs": [],
   "source": [
    "isabel "
   ]
  },
  {
   "cell_type": "markdown",
   "id": "84ff1421",
   "metadata": {},
   "source": [
    "## Problem statement \n",
    "\n",
    "Describe your problem statement. Articulate your objectives using absolutely no jargon. Interpret the problem as inference and/or prediction."
   ]
  },
  {
   "cell_type": "markdown",
   "id": "c43eb8d4",
   "metadata": {},
   "source": [
    "We are interested in understanding which factors contribute to the gross revenue of a movie, especially a high-grossing movie. By looking at a number of different variables, including budget, genre, rating, and continent, we hope to better understand the relationships between these factors and the gross revenue of a movie.\n",
    "\n",
    "This is an inference problem since we are trying to understand the relationships between different predictors and the gross revenue rather than actually predicting the gross revenue of a movie."
   ]
  },
  {
   "cell_type": "markdown",
   "id": "38c7b95f",
   "metadata": {},
   "source": [
    "## Data sources\n",
    "What data did you use? Provide details about your data. Include links to data if you are using open-access data."
   ]
  },
  {
   "cell_type": "markdown",
   "id": "64ad6f38",
   "metadata": {},
   "source": [
    "Our data, \"Movies Industries\", is from user Daniel Grijalva on Kaggle (https://www.kaggle.com/datasets/danielgrijalvas/movies)\n",
    "\n",
    "The dataset provides information on 6820 movies (220 movies per year, 1986-2016). The data was scraped from IMDb. While the dataset contained 16 variables, we only used the following 9 to develop our model:\n",
    "- budget: the budget of a movie. Some movies don't have this, so it appears as 0\n",
    "- country: country of origin\n",
    "- genre: main genre of the movie.\n",
    "- gross: revenue of the movie\n",
    "- rating: rating of the movie (R, PG, etc.)\n",
    "- runtime: duration of the movie\n",
    "- score: IMDb user rating\n",
    "- votes: number of user votes\n",
    "- year: year of release\n",
    "- released: release date (YYYY-MM-DD)"
   ]
  },
  {
   "cell_type": "markdown",
   "id": "8c255035",
   "metadata": {},
   "source": [
    "## Stakeholders\n",
    "Who cares? If you are successful, what difference will it make to them?"
   ]
  },
  {
   "cell_type": "markdown",
   "id": "96505694",
   "metadata": {},
   "source": [
    "We have three main stakeholders:\n",
    "1. **Filmmakers, such as directors and producers, and investors in the film industry:**\n",
    "By understanding key relationships between revenue and variables such as actors, year, etc., filmmakers can strategically make decisions about their movies to attain the most revenue possible. Investors in the film industry and studio executives will be interested in our analysis for the same reasons as filmmakers. If investors understand the key relationships that we will analyze, such as an actor that is consistently in top grossing movies, investors can better assess if a movie is worth investing in.\n",
    "2. **Everyday movie goers (like us!):**\n",
    "If a movie has a high gross revenue, it’s normally safe to assume the movie is good and worthwhile. Understanding the relationships found in our model can help everyday movie goers enhance their experiences by watching high-grossing movies. \n",
    "3. **People looking for/approached to have their work be adapted into a film:**\n",
    "Similar to filmmakers, if someone is going to have their work turned into a movie, they can use the relationships that we find in our model to determine if this venture is worthwhile or if they need to make some adjustments. For example, the genre of true crime has boomed in the last few years; if someone has a story relating to true crime, whether they are a victim who wants to tell a story or have written a fictional story, they can use this relationship to their advantage and have their movie be more popular/more fruitful now than it would have been in the past. Understanding these relationships of what will make their movie successful."
   ]
  },
  {
   "cell_type": "markdown",
   "id": "fe7ea9bb",
   "metadata": {},
   "source": [
    "## Data quality check / cleaning / preparation \n",
    "\n",
    "In a tabular form, show the distribution of values of each variable used in the analysis - for both categorical and continuous variables. Distribution of a categorical variable must include the number of missing values, the number of unique values, the frequency of all its levels. If a categorical variable has too many levels, you may just include the counts of the top 3-5 levels. \n",
    "\n",
    "If the tables in this section take too much space, you may put them in the appendix, and just mention any useful insights you obtained from the data quality check that helped you develop the model or helped you realize the necessary data cleaning / preparation.\n",
    "\n",
    "Were there any potentially incorrect values of variables that required cleaning? If yes, how did you clean them? \n",
    "\n",
    "Did you do any data wrangling or data preparation before the data was ready to use for model development? Did you create any new predictors from exisiting predictors? For example, if you have number of transactions and spend in a credit card dataset, you may create spend per transaction for predicting if a customer pays their credit card bill. Mention the steps at a broad level, you may put minor details in the appendix. Only mention the steps that ended up being useful towards developing your final model(s)."
   ]
  },
  {
   "cell_type": "code",
   "execution_count": 11,
   "id": "595ae20e",
   "metadata": {},
   "outputs": [],
   "source": [
    "import pandas as pd\n",
    "import numpy as np\n",
    "import statsmodels.formula.api as smf\n",
    "import seaborn as sns\n",
    "import matplotlib.pyplot as plt\n",
    "import statsmodels.api as sm\n",
    "import itertools\n",
    "import time"
   ]
  },
  {
   "cell_type": "code",
   "execution_count": 17,
   "id": "0f84d0af",
   "metadata": {},
   "outputs": [],
   "source": [
    "train = pd.read_csv('train.csv')\n",
    "test = pd.read_csv('test.csv')"
   ]
  },
  {
   "cell_type": "markdown",
   "id": "9d107cb9",
   "metadata": {},
   "source": [
    "lily"
   ]
  },
  {
   "cell_type": "markdown",
   "id": "4cb6b6f7",
   "metadata": {},
   "source": [
    "Before the data could be used for model development, existing predictors were created from new predictors. Using the `country` for each movie, a `continent` variable was created for each movie to generalize the region of origin for each movie (since country is very specific). Furthermore, we used the `released` variable to create a `month` variable for each movie (reflecting the month in which the movie was released) in order to see seasonal/yearly trends in the data."
   ]
  },
  {
   "cell_type": "markdown",
   "id": "fbb11c9b",
   "metadata": {},
   "source": [
    "## Exploratory data analysis"
   ]
  },
  {
   "cell_type": "markdown",
   "id": "e4bd74a9",
   "metadata": {},
   "source": [
    "Put the relevant EDA here (visualizations, tables, etc.) that helped you figure out useful predictors for developing the model(s). Only put the EDA that ended up being useful towards developing your final model(s). \n",
    "\n",
    "List the insights (as bullet points) you got from EDA that ended up being useful towards developing your final model. \n",
    "\n",
    "Again, if there are too many plots / tables, you may put them into appendix, and just mention the insights you got from them."
   ]
  },
  {
   "cell_type": "code",
   "execution_count": null,
   "id": "8355ae33",
   "metadata": {},
   "outputs": [],
   "source": [
    "# Pairplot of variables"
   ]
  },
  {
   "cell_type": "code",
   "execution_count": 5,
   "id": "b58a7219",
   "metadata": {},
   "outputs": [],
   "source": [
    "# Distribution of gross by genre via boxplot"
   ]
  },
  {
   "cell_type": "code",
   "execution_count": null,
   "id": "4efd41b3",
   "metadata": {},
   "outputs": [],
   "source": [
    "# Visualization of the trend between year and gross"
   ]
  },
  {
   "cell_type": "code",
   "execution_count": null,
   "id": "7e18bc82",
   "metadata": {},
   "outputs": [],
   "source": [
    "# Distribution of gross by genre via boxplot"
   ]
  },
  {
   "cell_type": "code",
   "execution_count": null,
   "id": "fee16405",
   "metadata": {},
   "outputs": [],
   "source": [
    "# Distribution of gross by rating via boxplot"
   ]
  },
  {
   "cell_type": "markdown",
   "id": "8f463022",
   "metadata": {},
   "source": [
    "- Through the pairplot (below), we saw that gross had a quadratic relationship with the numeric predictors. Therefore, we knew that we would likely have to transform `gross` in our model. We also saw that `gross` was highly correlated with `budget`, `votes`, `score`. We also saw a strong correlation between `votes` and `score`. \n",
    "- We also wanted to further examine the relationship between the categorical variables, `rating`, `genre`, and `month`, with the response. A boxplot showed that some genres, such as family, animation, and action, tended to have more high-grossing movies compared to other genres. "
   ]
  },
  {
   "cell_type": "code",
   "execution_count": null,
   "id": "6ff0f822",
   "metadata": {},
   "outputs": [],
   "source": [
    "isabel"
   ]
  },
  {
   "cell_type": "markdown",
   "id": "d39c782c",
   "metadata": {},
   "source": [
    "## Approach\n",
    "\n",
    "What kind of a model (linear / logistic / other) did you use? What performance metric(s) did you optimize and why?\n",
    "\n",
    "Is there anything unorthodox / new in your approach? \n",
    "\n",
    "What problems did you anticipate? What problems did you encounter? Did the very first model you tried work? \n",
    "\n",
    "Did your problem already have solution(s) (posted on Kaggle or elsewhere). If yes, then how did you build upon those solutions, what did you do differently? Is your model better as compared to those solutions in terms of prediction / inference?\n",
    "\n",
    "**Important: Mention any code repositories (with citations) or other sources that you used, and specifically what changes you made to them for your project.**"
   ]
  },
  {
   "cell_type": "markdown",
   "id": "873c5d4c",
   "metadata": {},
   "source": [
    "We used a linear model. Since we were mainly interested in inference, we were mainly interested in optimizing R^2 since this is indication of a model's fit to the data. However, we also were interested in comparing the RSE and RMSE of our data to analyze/detect any under/overfitting in the data. We chose RMSE because we wanted penalize larger errors for the sake of our stakeholders."
   ]
  },
  {
   "cell_type": "markdown",
   "id": "1d34299d",
   "metadata": {},
   "source": [
    "aarti, artharva"
   ]
  },
  {
   "cell_type": "markdown",
   "id": "acab331a",
   "metadata": {},
   "source": [
    "## Developing the model"
   ]
  },
  {
   "cell_type": "markdown",
   "id": "ae5ec4c9",
   "metadata": {},
   "source": [
    "Explain the steps taken to develop and improve the base model - informative visualizations / addressing modeling assumption violations / variable transformation / interactions / outlier treatment / influential points treatment / addressing over-fitting / addressing multicollinearity / variable selection - stepwise regression, lasso, ridge regression). \n",
    "\n",
    "Did you succeed in achieving your goal, or did you fail? Why?\n",
    "\n",
    "**Put the final model equation**.\n",
    "\n",
    "**Important: This section should be rigorous and thorough. Present detailed information about decision you made, why you made them, and any evidence/experimentation to back them up.**"
   ]
  },
  {
   "cell_type": "markdown",
   "id": "c7bad905",
   "metadata": {},
   "source": [
    "aarti"
   ]
  },
  {
   "cell_type": "markdown",
   "id": "c8fc7f7e",
   "metadata": {},
   "source": [
    "Based on the base model (model with all variables and no transformation/interaction terms), we identified variables that seemed to be significant based on their p-values. `budget`, `votes`, `score` all seemed signifcant. Some of the categories of `genre`, `rating`, and `decade` also seemed signifcant. `runtime` and `continent` did not seem significant. Therefore, we decided that the main variables to use in our analysis would be `budget`, `votes`, `score`, `genre`, `rating`, and `decade`. \n",
    "\n",
    "Through the pairplot (below), we saw that gross had a quadratic relationship with the numeric predictors. Therefore, we knew that we would likely have to transform `gross` in our model. We also saw that `gross` was highly correlated with `budget`, `votes`, `score`. We also saw a strong correlation between `votes` and `score`. \n",
    "\n",
    "We also wanted to further examine the relationship between the categorical variables, `rating`, `genre`, and `decade`, with the response. A boxplot showed that some genres, such as family, animation, and action, tended to have more high-grossing movies compared to other genres. We also saw through a lineplot that `decade` seemed to be correlated with `gross`, in that more recent movies tend to be more high-grossing.\n",
    "\n",
    "We also wanted to make sure that our model satisfied the linearity and constant variance assumptions as well as check for potential problems such as multicollinearity and influential points. Through the residual plot of our base model (below), we saw that our model satisfied the linearity assumption since the residuals are distributed more or less in a similar manner on both sides of the line Residuals = 0 for all fitted values. However, we saw that there was non-constant variance of the error terms (heteroskasticity), as the variance of errors seems to increase with increase in the fitted values. Therefore, we knew that we would have to transform the response `gross` in our model. "
   ]
  },
  {
   "cell_type": "code",
   "execution_count": 6,
   "id": "5496e0aa",
   "metadata": {},
   "outputs": [],
   "source": [
    "# Residual plot for the base model"
   ]
  },
  {
   "cell_type": "markdown",
   "id": "14323725",
   "metadata": {},
   "source": [
    "We did a VIF test on the variables to see if there was an multicollinearity occuring in the model. Since the VIFs for all the numeric variables were less than 2, we concluded that multicollinearity would not affect our model and inference (see VIF test in appendix). Furthermore, we also checked for points that were both outliers and high leverage points (influential points). We found 6 points that were influential points in the dataset. As such, we removed them from the dataset.\n",
    "\n",
    "We also wanted to confirm what variables would be important in our analysis using backward variable selection. In order to do so, we created dummy variables for the categorical variables in our dataset (`genre`, `rating`, `month`, and `continent`). Since creating dummies from the categorical variables greatly increased the number of predictors in our dataset, we opted to do either forward or backward selection since stepwise selection would require too much computational power. We ultimately decided on backwards selection because we knew that there would be collinearity as a result of the dummy variables, and backward stepwise may be forced to keep them all in the model unlike forward selection where none of them might be entered. After backward selection was performed, the model with the lowest BIC was chosen as the best. \n",
    "\n",
    "Through backwards variable selection and BIC, the model with 8 predictors was chosen as the best. All the predictors chosen were signficant (p-values less than 0.05). The model chose two main numerical predictors: `budget` and `votes`. The model also chose some levels of the categorical predictors that we had suspected to be associated with the response. For example, `Animation`, `Family`, and `Horror` were all selected predictors, indicating that these are `genre` is associated with the response. `October` was also a predictor in the best model, indicating that `month` has an affiliation with `gross`. Lastly, the ratings `PG` and `PG-13` were in the best model, indicating that `rating` also affected `gross`. \n",
    "\n",
    "However, we also wanted to consider interaction terms in our variable selection method. However, due to the large number of predictors that resulted from the dummies of the categorical variables, it was not feasible to run backwards variable selection on all of the predictors and their interaction terms (as this would result in 1176 predictors). Therefore, we decided instead to do backwards variable selection again considering interactions, but only the interactions between the quantitiative variables. \n",
    "\n",
    "From the variable selection considering the interaction terms between the quantitative predictors, and selecting the best model using BIC, we saw that many interaction terms were significant. Similar to the first variable selection, `budget` and `votes` were signficant. However, `runtime` `year:score`, `year:votes`,  `year:budget`,  `year:runtime`, `score:votes`,  `score:budget`, `score:runtime`,  `votes:budget`,  and `votes:runtime` were also significant. \n",
    "\n",
    "Construction of our final model began by using the best model resulting from variable selection considering the interaction terms between the quantitative predictors. Therefore, all of the predictors that were signficant (listed above) were included in the model. Then, we added in significant categorical variables based on the results of the backward selection with the categorical variables and our own intuition. Since levels of `genre`, `rating`, and `month` were all signficant, we decided to include these three categorical variables in the model. However, we decided to create an interaction term between `genre` and `budget` because we knew logically that the genre of a movie affects its budget. For example, an action movie will typically have a larger budget than an indie movie. We wanted to reflect this relationship in the final model.\n",
    "\n",
    "Once all of the interactions were considered, we also decided to add some transformation terms to improve the fit of our model. Based on our initial EDA, we knew that we would have to square root the response `gross` in our final model since all of the numeric variables reflected a quadratic relationship with gross. However, we were curious to see if there were still transformations of the predictors that could be made to improve the fit of the model. Therefore, we made scatterplots of the predictors against the natural log of `gross`. This revealed that there was still a quadratic relationship between `budget` and `votes` with the predictor. As such, we decided to transform `budget` and `votes` quadratically. "
   ]
  },
  {
   "cell_type": "code",
   "execution_count": 18,
   "id": "edf07834",
   "metadata": {},
   "outputs": [
    {
     "ename": "AttributeError",
     "evalue": "module 'seaborn' has no attribute 'set_ylabel'",
     "output_type": "error",
     "traceback": [
      "\u001b[0;31m---------------------------------------------------------------------------\u001b[0m",
      "\u001b[0;31mAttributeError\u001b[0m                            Traceback (most recent call last)",
      "Input \u001b[0;32mIn [18]\u001b[0m, in \u001b[0;36m<cell line: 3>\u001b[0;34m()\u001b[0m\n\u001b[1;32m      5\u001b[0m sns\u001b[38;5;241m.\u001b[39mset(font_scale\u001b[38;5;241m=\u001b[39m\u001b[38;5;241m1.25\u001b[39m)\n\u001b[1;32m      6\u001b[0m sns\u001b[38;5;241m.\u001b[39mscatterplot(x \u001b[38;5;241m=\u001b[39m col, y \u001b[38;5;241m=\u001b[39m np\u001b[38;5;241m.\u001b[39mlog(train\u001b[38;5;241m.\u001b[39mgross), data \u001b[38;5;241m=\u001b[39m train)\n\u001b[0;32m----> 7\u001b[0m \u001b[43msns\u001b[49m\u001b[38;5;241;43m.\u001b[39;49m\u001b[43mset_ylabel\u001b[49m(\u001b[38;5;124m'\u001b[39m\u001b[38;5;124mgross\u001b[39m\u001b[38;5;124m'\u001b[39m, fontsize\u001b[38;5;241m=\u001b[39m\u001b[38;5;241m20\u001b[39m)\n\u001b[1;32m      8\u001b[0m plt\u001b[38;5;241m.\u001b[39mshow()\n",
      "\u001b[0;31mAttributeError\u001b[0m: module 'seaborn' has no attribute 'set_ylabel'"
     ]
    },
    {
     "data": {
      "image/png": "[encoded data removed]",
      "text/plain": [
       "<Figure size 504x288 with 1 Axes>"
      ]
     },
     "metadata": {},
     "output_type": "display_data"
    }
   ],
   "source": [
    "# Scatterplot of 'budget' and 'votes' against np.log(gross)\n",
    "cols = ['budget','votes']\n",
    "for col in cols:\n",
    "    plt.rcParams[\"figure.figsize\"] = (7,4)\n",
    "    sns.set(font_scale=1.25)\n",
    "    sns.scatterplot(x = col, y = np.log(train.gross), data = train)\n",
    "    sns.set_ylabel('gross', fontsize=20)\n",
    "    plt.show()"
   ]
  },
  {
   "cell_type": "markdown",
   "id": "5184bf7f",
   "metadata": {},
   "source": [
    "Our final model is:"
   ]
  },
  {
   "cell_type": "code",
   "execution_count": 19,
   "id": "287e0865",
   "metadata": {},
   "outputs": [
    {
     "data": {
      "text/html": [
       "<table class=\"simpletable\">\n",
       "<caption>OLS Regression Results</caption>\n",
       "<tr>\n",
       "  <th>Dep. Variable:</th>     <td>np.sqrt(gross)</td>  <th>  R-squared:         </th> <td>   0.773</td> \n",
       "</tr>\n",
       "<tr>\n",
       "  <th>Model:</th>                   <td>OLS</td>       <th>  Adj. R-squared:    </th> <td>   0.771</td> \n",
       "</tr>\n",
       "<tr>\n",
       "  <th>Method:</th>             <td>Least Squares</td>  <th>  F-statistic:       </th> <td>   585.9</td> \n",
       "</tr>\n",
       "<tr>\n",
       "  <th>Date:</th>             <td>Sun, 12 Mar 2023</td> <th>  Prob (F-statistic):</th>  <td>  0.00</td>  \n",
       "</tr>\n",
       "<tr>\n",
       "  <th>Time:</th>                 <td>21:03:53</td>     <th>  Log-Likelihood:    </th> <td> -40935.</td> \n",
       "</tr>\n",
       "<tr>\n",
       "  <th>No. Observations:</th>      <td>  4333</td>      <th>  AIC:               </th> <td>8.192e+04</td>\n",
       "</tr>\n",
       "<tr>\n",
       "  <th>Df Residuals:</th>          <td>  4307</td>      <th>  BIC:               </th> <td>8.209e+04</td>\n",
       "</tr>\n",
       "<tr>\n",
       "  <th>Df Model:</th>              <td>    25</td>      <th>                     </th>     <td> </td>    \n",
       "</tr>\n",
       "<tr>\n",
       "  <th>Covariance Type:</th>      <td>nonrobust</td>    <th>                     </th>     <td> </td>    \n",
       "</tr>\n",
       "</table>\n",
       "<table class=\"simpletable\">\n",
       "<tr>\n",
       "              <td></td>                 <th>coef</th>     <th>std err</th>      <th>t</th>      <th>P>|t|</th>  <th>[0.025</th>    <th>0.975]</th>  \n",
       "</tr>\n",
       "<tr>\n",
       "  <th>Intercept</th>                 <td>    0.0009</td> <td>    0.000</td> <td>    5.127</td> <td> 0.000</td> <td>    0.001</td> <td>    0.001</td>\n",
       "</tr>\n",
       "<tr>\n",
       "  <th>month[T.August]</th>           <td>    0.0014</td> <td>    0.003</td> <td>    0.511</td> <td> 0.609</td> <td>   -0.004</td> <td>    0.007</td>\n",
       "</tr>\n",
       "<tr>\n",
       "  <th>month[T.December]</th>         <td>   -0.0001</td> <td>    0.000</td> <td>   -0.596</td> <td> 0.551</td> <td>   -0.001</td> <td>    0.000</td>\n",
       "</tr>\n",
       "<tr>\n",
       "  <th>month[T.February]</th>         <td>-9.774e-06</td> <td>    0.000</td> <td>   -0.063</td> <td> 0.949</td> <td>   -0.000</td> <td>    0.000</td>\n",
       "</tr>\n",
       "<tr>\n",
       "  <th>month[T.January]</th>          <td>    0.0001</td> <td>    0.000</td> <td>    0.361</td> <td> 0.718</td> <td>   -0.000</td> <td>    0.001</td>\n",
       "</tr>\n",
       "<tr>\n",
       "  <th>month[T.July]</th>             <td> 9.551e-05</td> <td> 2.66e-05</td> <td>    3.585</td> <td> 0.000</td> <td> 4.33e-05</td> <td>    0.000</td>\n",
       "</tr>\n",
       "<tr>\n",
       "  <th>month[T.June]</th>             <td> 7.335e-06</td> <td> 4.33e-06</td> <td>    1.695</td> <td> 0.090</td> <td>-1.15e-06</td> <td> 1.58e-05</td>\n",
       "</tr>\n",
       "<tr>\n",
       "  <th>month[T.March]</th>            <td> 2.422e-07</td> <td>    0.000</td> <td>    0.001</td> <td> 0.999</td> <td>   -0.000</td> <td>    0.000</td>\n",
       "</tr>\n",
       "<tr>\n",
       "  <th>month[T.May]</th>              <td> 4.102e-05</td> <td> 4.72e-05</td> <td>    0.869</td> <td> 0.385</td> <td>-5.15e-05</td> <td>    0.000</td>\n",
       "</tr>\n",
       "<tr>\n",
       "  <th>month[T.November]</th>         <td>-2.253e-05</td> <td>    0.000</td> <td>   -0.106</td> <td> 0.915</td> <td>   -0.000</td> <td>    0.000</td>\n",
       "</tr>\n",
       "<tr>\n",
       "  <th>month[T.October]</th>          <td> 4.149e-05</td> <td> 5.46e-05</td> <td>    0.760</td> <td> 0.448</td> <td>-6.56e-05</td> <td>    0.000</td>\n",
       "</tr>\n",
       "<tr>\n",
       "  <th>month[T.September]</th>        <td> 7.338e-05</td> <td> 4.62e-05</td> <td>    1.588</td> <td> 0.112</td> <td>-1.72e-05</td> <td>    0.000</td>\n",
       "</tr>\n",
       "<tr>\n",
       "  <th>genre[T.Adventure]</th>        <td> 4.697e-05</td> <td> 8.07e-05</td> <td>    0.582</td> <td> 0.561</td> <td>   -0.000</td> <td>    0.000</td>\n",
       "</tr>\n",
       "<tr>\n",
       "  <th>genre[T.Animation]</th>        <td> 6.439e-05</td> <td>    0.000</td> <td>    0.450</td> <td> 0.653</td> <td>   -0.000</td> <td>    0.000</td>\n",
       "</tr>\n",
       "<tr>\n",
       "  <th>genre[T.Biography]</th>        <td>-3.876e-05</td> <td> 3.44e-05</td> <td>   -1.128</td> <td> 0.260</td> <td>   -0.000</td> <td> 2.86e-05</td>\n",
       "</tr>\n",
       "<tr>\n",
       "  <th>genre[T.Comedy]</th>           <td>    0.0003</td> <td>    0.000</td> <td>    1.794</td> <td> 0.073</td> <td>-2.42e-05</td> <td>    0.001</td>\n",
       "</tr>\n",
       "<tr>\n",
       "  <th>genre[T.Crime]</th>            <td>  -7.3e-05</td> <td>    0.000</td> <td>   -0.327</td> <td> 0.744</td> <td>   -0.001</td> <td>    0.000</td>\n",
       "</tr>\n",
       "<tr>\n",
       "  <th>genre[T.Drama]</th>            <td>   -0.0001</td> <td>    0.000</td> <td>   -1.075</td> <td> 0.283</td> <td>   -0.000</td> <td>    0.000</td>\n",
       "</tr>\n",
       "<tr>\n",
       "  <th>genre[T.Family]</th>           <td> 1.739e-06</td> <td> 1.07e-06</td> <td>    1.632</td> <td> 0.103</td> <td>-3.49e-07</td> <td> 3.83e-06</td>\n",
       "</tr>\n",
       "<tr>\n",
       "  <th>genre[T.Fantasy]</th>          <td> 2.561e-06</td> <td> 3.21e-05</td> <td>    0.080</td> <td> 0.936</td> <td>-6.04e-05</td> <td> 6.55e-05</td>\n",
       "</tr>\n",
       "<tr>\n",
       "  <th>genre[T.Horror]</th>           <td>    0.0002</td> <td>    0.000</td> <td>    1.029</td> <td> 0.303</td> <td>   -0.000</td> <td>    0.000</td>\n",
       "</tr>\n",
       "<tr>\n",
       "  <th>genre[T.Mystery]</th>          <td>-3.193e-07</td> <td> 3.68e-06</td> <td>   -0.087</td> <td> 0.931</td> <td>-7.54e-06</td> <td>  6.9e-06</td>\n",
       "</tr>\n",
       "<tr>\n",
       "  <th>genre[T.Romance]</th>          <td>-1.381e-06</td> <td> 9.65e-07</td> <td>   -1.431</td> <td> 0.153</td> <td>-3.27e-06</td> <td> 5.11e-07</td>\n",
       "</tr>\n",
       "<tr>\n",
       "  <th>genre[T.Sci_Fi]</th>           <td>-4.527e-06</td> <td> 1.88e-05</td> <td>   -0.241</td> <td> 0.810</td> <td>-4.14e-05</td> <td> 3.23e-05</td>\n",
       "</tr>\n",
       "<tr>\n",
       "  <th>genre[T.Thriller]</th>         <td> 5.062e-06</td> <td> 1.61e-05</td> <td>    0.315</td> <td> 0.753</td> <td>-2.64e-05</td> <td> 3.66e-05</td>\n",
       "</tr>\n",
       "<tr>\n",
       "  <th>genre[T.Western]</th>          <td> 9.763e-08</td> <td>  5.5e-07</td> <td>    0.177</td> <td> 0.859</td> <td>-9.81e-07</td> <td> 1.18e-06</td>\n",
       "</tr>\n",
       "<tr>\n",
       "  <th>rating[T.G]</th>               <td> 5.358e-05</td> <td> 7.98e-05</td> <td>    0.671</td> <td> 0.502</td> <td>   -0.000</td> <td>    0.000</td>\n",
       "</tr>\n",
       "<tr>\n",
       "  <th>rating[T.NC_17]</th>           <td>-1.956e-06</td> <td> 1.26e-05</td> <td>   -0.155</td> <td> 0.877</td> <td>-2.67e-05</td> <td> 2.28e-05</td>\n",
       "</tr>\n",
       "<tr>\n",
       "  <th>rating[T.Not_Rated]</th>       <td> 1.268e-05</td> <td> 4.97e-05</td> <td>    0.255</td> <td> 0.798</td> <td>-8.47e-05</td> <td>    0.000</td>\n",
       "</tr>\n",
       "<tr>\n",
       "  <th>rating[T.PG]</th>              <td>-5.059e-05</td> <td>    0.001</td> <td>   -0.069</td> <td> 0.945</td> <td>   -0.001</td> <td>    0.001</td>\n",
       "</tr>\n",
       "<tr>\n",
       "  <th>rating[T.PG_13]</th>           <td>    0.0004</td> <td>    0.001</td> <td>    0.485</td> <td> 0.627</td> <td>   -0.001</td> <td>    0.002</td>\n",
       "</tr>\n",
       "<tr>\n",
       "  <th>rating[T.R]</th>               <td> 9.943e-05</td> <td>    0.000</td> <td>    0.760</td> <td> 0.447</td> <td>   -0.000</td> <td>    0.000</td>\n",
       "</tr>\n",
       "<tr>\n",
       "  <th>rating[T.TV_MA]</th>           <td>-1.178e-06</td> <td> 3.22e-06</td> <td>   -0.366</td> <td> 0.714</td> <td>-7.49e-06</td> <td> 5.13e-06</td>\n",
       "</tr>\n",
       "<tr>\n",
       "  <th>rating[T.Unrated]</th>         <td>-5.193e-06</td> <td> 4.28e-05</td> <td>   -0.121</td> <td> 0.904</td> <td>-8.92e-05</td> <td> 7.88e-05</td>\n",
       "</tr>\n",
       "<tr>\n",
       "  <th>rating[T.X]</th>               <td>-2.854e-06</td> <td>  8.1e-06</td> <td>   -0.352</td> <td> 0.725</td> <td>-1.87e-05</td> <td>  1.3e-05</td>\n",
       "</tr>\n",
       "<tr>\n",
       "  <th>year</th>                      <td>    1.0611</td> <td>    0.207</td> <td>    5.129</td> <td> 0.000</td> <td>    0.655</td> <td>    1.467</td>\n",
       "</tr>\n",
       "<tr>\n",
       "  <th>votes</th>                     <td>    0.7290</td> <td>    0.072</td> <td>   10.075</td> <td> 0.000</td> <td>    0.587</td> <td>    0.871</td>\n",
       "</tr>\n",
       "<tr>\n",
       "  <th>year:votes</th>                <td>   -0.0003</td> <td> 3.59e-05</td> <td>   -8.584</td> <td> 0.000</td> <td>   -0.000</td> <td>   -0.000</td>\n",
       "</tr>\n",
       "<tr>\n",
       "  <th>budget</th>                    <td>   -0.0031</td> <td>    0.000</td> <td>   -9.494</td> <td> 0.000</td> <td>   -0.004</td> <td>   -0.002</td>\n",
       "</tr>\n",
       "<tr>\n",
       "  <th>genre[T.Adventure]:budget</th> <td> 1.547e-05</td> <td> 3.13e-06</td> <td>    4.936</td> <td> 0.000</td> <td> 9.33e-06</td> <td> 2.16e-05</td>\n",
       "</tr>\n",
       "<tr>\n",
       "  <th>genre[T.Animation]:budget</th> <td> 3.931e-05</td> <td> 2.91e-06</td> <td>   13.530</td> <td> 0.000</td> <td> 3.36e-05</td> <td>  4.5e-05</td>\n",
       "</tr>\n",
       "<tr>\n",
       "  <th>genre[T.Biography]:budget</th> <td>-1.731e-05</td> <td> 6.38e-06</td> <td>   -2.713</td> <td> 0.007</td> <td>-2.98e-05</td> <td> -4.8e-06</td>\n",
       "</tr>\n",
       "<tr>\n",
       "  <th>genre[T.Comedy]:budget</th>    <td> 1.772e-05</td> <td> 3.46e-06</td> <td>    5.121</td> <td> 0.000</td> <td> 1.09e-05</td> <td> 2.45e-05</td>\n",
       "</tr>\n",
       "<tr>\n",
       "  <th>genre[T.Crime]:budget</th>     <td>-1.951e-05</td> <td> 6.28e-06</td> <td>   -3.107</td> <td> 0.002</td> <td>-3.18e-05</td> <td> -7.2e-06</td>\n",
       "</tr>\n",
       "<tr>\n",
       "  <th>genre[T.Drama]:budget</th>     <td>-3.771e-06</td> <td> 4.04e-06</td> <td>   -0.932</td> <td> 0.351</td> <td>-1.17e-05</td> <td> 4.16e-06</td>\n",
       "</tr>\n",
       "<tr>\n",
       "  <th>genre[T.Family]:budget</th>    <td> 9.026e-05</td> <td>  1.9e-05</td> <td>    4.739</td> <td> 0.000</td> <td> 5.29e-05</td> <td>    0.000</td>\n",
       "</tr>\n",
       "<tr>\n",
       "  <th>genre[T.Fantasy]:budget</th>   <td>-4.016e-06</td> <td> 2.02e-05</td> <td>   -0.199</td> <td> 0.842</td> <td>-4.36e-05</td> <td> 3.56e-05</td>\n",
       "</tr>\n",
       "<tr>\n",
       "  <th>genre[T.Horror]:budget</th>    <td> 1.102e-05</td> <td> 1.11e-05</td> <td>    0.996</td> <td> 0.319</td> <td>-1.07e-05</td> <td> 3.27e-05</td>\n",
       "</tr>\n",
       "<tr>\n",
       "  <th>genre[T.Mystery]:budget</th>   <td>-4.864e-06</td> <td> 1.86e-05</td> <td>   -0.262</td> <td> 0.793</td> <td>-4.13e-05</td> <td> 3.16e-05</td>\n",
       "</tr>\n",
       "<tr>\n",
       "  <th>genre[T.Romance]:budget</th>   <td>   -0.0001</td> <td>    0.000</td> <td>   -1.323</td> <td> 0.186</td> <td>   -0.000</td> <td> 6.56e-05</td>\n",
       "</tr>\n",
       "<tr>\n",
       "  <th>genre[T.Sci_Fi]:budget</th>    <td>-4.842e-05</td> <td> 3.59e-05</td> <td>   -1.351</td> <td> 0.177</td> <td>   -0.000</td> <td> 2.19e-05</td>\n",
       "</tr>\n",
       "<tr>\n",
       "  <th>genre[T.Thriller]:budget</th>  <td>    0.0001</td> <td> 8.57e-05</td> <td>    1.597</td> <td> 0.110</td> <td>-3.11e-05</td> <td>    0.000</td>\n",
       "</tr>\n",
       "<tr>\n",
       "  <th>genre[T.Western]:budget</th>   <td>-1.357e-05</td> <td>    0.000</td> <td>   -0.066</td> <td> 0.948</td> <td>   -0.000</td> <td>    0.000</td>\n",
       "</tr>\n",
       "<tr>\n",
       "  <th>year:budget</th>               <td> 1.532e-06</td> <td> 1.63e-07</td> <td>    9.389</td> <td> 0.000</td> <td> 1.21e-06</td> <td> 1.85e-06</td>\n",
       "</tr>\n",
       "<tr>\n",
       "  <th>score</th>                     <td> 2.733e-05</td> <td>    0.008</td> <td>    0.003</td> <td> 0.997</td> <td>   -0.015</td> <td>    0.015</td>\n",
       "</tr>\n",
       "<tr>\n",
       "  <th>score:votes</th>               <td>   -0.0133</td> <td>    0.001</td> <td>  -20.581</td> <td> 0.000</td> <td>   -0.015</td> <td>   -0.012</td>\n",
       "</tr>\n",
       "<tr>\n",
       "  <th>runtime</th>                   <td>   -0.0020</td> <td>    0.007</td> <td>   -0.304</td> <td> 0.761</td> <td>   -0.015</td> <td>    0.011</td>\n",
       "</tr>\n",
       "<tr>\n",
       "  <th>year:runtime</th>              <td>    0.0019</td> <td>    0.004</td> <td>    0.512</td> <td> 0.608</td> <td>   -0.005</td> <td>    0.009</td>\n",
       "</tr>\n",
       "<tr>\n",
       "  <th>score:budget</th>              <td> 1.593e-05</td> <td> 1.95e-06</td> <td>    8.162</td> <td> 0.000</td> <td> 1.21e-05</td> <td> 1.98e-05</td>\n",
       "</tr>\n",
       "<tr>\n",
       "  <th>score:runtime</th>             <td>   -0.3523</td> <td>    0.785</td> <td>   -0.449</td> <td> 0.654</td> <td>   -1.891</td> <td>    1.187</td>\n",
       "</tr>\n",
       "<tr>\n",
       "  <th>votes:budget</th>              <td> 1.847e-11</td> <td> 7.66e-12</td> <td>    2.411</td> <td> 0.016</td> <td> 3.45e-12</td> <td> 3.35e-11</td>\n",
       "</tr>\n",
       "<tr>\n",
       "  <th>votes:runtime</th>             <td> 6.572e-05</td> <td> 1.43e-05</td> <td>    4.595</td> <td> 0.000</td> <td> 3.77e-05</td> <td> 9.38e-05</td>\n",
       "</tr>\n",
       "<tr>\n",
       "  <th>I(votes ** 2)</th>             <td>-1.102e-09</td> <td> 8.27e-10</td> <td>   -1.333</td> <td> 0.183</td> <td>-2.72e-09</td> <td> 5.19e-10</td>\n",
       "</tr>\n",
       "<tr>\n",
       "  <th>I(budget ** 2)</th>            <td>-2.079e-13</td> <td> 2.03e-14</td> <td>  -10.266</td> <td> 0.000</td> <td>-2.48e-13</td> <td>-1.68e-13</td>\n",
       "</tr>\n",
       "</table>\n",
       "<table class=\"simpletable\">\n",
       "<tr>\n",
       "  <th>Omnibus:</th>       <td>565.331</td> <th>  Durbin-Watson:     </th> <td>   1.993</td>\n",
       "</tr>\n",
       "<tr>\n",
       "  <th>Prob(Omnibus):</th> <td> 0.000</td>  <th>  Jarque-Bera (JB):  </th> <td>1938.347</td>\n",
       "</tr>\n",
       "<tr>\n",
       "  <th>Skew:</th>          <td> 0.645</td>  <th>  Prob(JB):          </th> <td>    0.00</td>\n",
       "</tr>\n",
       "<tr>\n",
       "  <th>Kurtosis:</th>      <td> 6.012</td>  <th>  Cond. No.          </th> <td>1.44e+18</td>\n",
       "</tr>\n",
       "</table><br/><br/>Notes:<br/>[1] Standard Errors assume that the covariance matrix of the errors is correctly specified.<br/>[2] The condition number is large, 1.44e+18. This might indicate that there are<br/>strong multicollinearity or other numerical problems."
      ],
      "text/plain": [
       "<class 'statsmodels.iolib.summary.Summary'>\n",
       "\"\"\"\n",
       "                            OLS Regression Results                            \n",
       "==============================================================================\n",
       "Dep. Variable:         np.sqrt(gross)   R-squared:                       0.773\n",
       "Model:                            OLS   Adj. R-squared:                  0.771\n",
       "Method:                 Least Squares   F-statistic:                     585.9\n",
       "Date:                Sun, 12 Mar 2023   Prob (F-statistic):               0.00\n",
       "Time:                        21:03:53   Log-Likelihood:                -40935.\n",
       "No. Observations:                4333   AIC:                         8.192e+04\n",
       "Df Residuals:                    4307   BIC:                         8.209e+04\n",
       "Df Model:                          25                                         \n",
       "Covariance Type:            nonrobust                                         \n",
       "=============================================================================================\n",
       "                                coef    std err          t      P>|t|      [0.025      0.975]\n",
       "---------------------------------------------------------------------------------------------\n",
       "Intercept                     0.0009      0.000      5.127      0.000       0.001       0.001\n",
       "month[T.August]               0.0014      0.003      0.511      0.609      -0.004       0.007\n",
       "month[T.December]            -0.0001      0.000     -0.596      0.551      -0.001       0.000\n",
       "month[T.February]         -9.774e-06      0.000     -0.063      0.949      -0.000       0.000\n",
       "month[T.January]              0.0001      0.000      0.361      0.718      -0.000       0.001\n",
       "month[T.July]              9.551e-05   2.66e-05      3.585      0.000    4.33e-05       0.000\n",
       "month[T.June]              7.335e-06   4.33e-06      1.695      0.090   -1.15e-06    1.58e-05\n",
       "month[T.March]             2.422e-07      0.000      0.001      0.999      -0.000       0.000\n",
       "month[T.May]               4.102e-05   4.72e-05      0.869      0.385   -5.15e-05       0.000\n",
       "month[T.November]         -2.253e-05      0.000     -0.106      0.915      -0.000       0.000\n",
       "month[T.October]           4.149e-05   5.46e-05      0.760      0.448   -6.56e-05       0.000\n",
       "month[T.September]         7.338e-05   4.62e-05      1.588      0.112   -1.72e-05       0.000\n",
       "genre[T.Adventure]         4.697e-05   8.07e-05      0.582      0.561      -0.000       0.000\n",
       "genre[T.Animation]         6.439e-05      0.000      0.450      0.653      -0.000       0.000\n",
       "genre[T.Biography]        -3.876e-05   3.44e-05     -1.128      0.260      -0.000    2.86e-05\n",
       "genre[T.Comedy]               0.0003      0.000      1.794      0.073   -2.42e-05       0.001\n",
       "genre[T.Crime]              -7.3e-05      0.000     -0.327      0.744      -0.001       0.000\n",
       "genre[T.Drama]               -0.0001      0.000     -1.075      0.283      -0.000       0.000\n",
       "genre[T.Family]            1.739e-06   1.07e-06      1.632      0.103   -3.49e-07    3.83e-06\n",
       "genre[T.Fantasy]           2.561e-06   3.21e-05      0.080      0.936   -6.04e-05    6.55e-05\n",
       "genre[T.Horror]               0.0002      0.000      1.029      0.303      -0.000       0.000\n",
       "genre[T.Mystery]          -3.193e-07   3.68e-06     -0.087      0.931   -7.54e-06     6.9e-06\n",
       "genre[T.Romance]          -1.381e-06   9.65e-07     -1.431      0.153   -3.27e-06    5.11e-07\n",
       "genre[T.Sci_Fi]           -4.527e-06   1.88e-05     -0.241      0.810   -4.14e-05    3.23e-05\n",
       "genre[T.Thriller]          5.062e-06   1.61e-05      0.315      0.753   -2.64e-05    3.66e-05\n",
       "genre[T.Western]           9.763e-08    5.5e-07      0.177      0.859   -9.81e-07    1.18e-06\n",
       "rating[T.G]                5.358e-05   7.98e-05      0.671      0.502      -0.000       0.000\n",
       "rating[T.NC_17]           -1.956e-06   1.26e-05     -0.155      0.877   -2.67e-05    2.28e-05\n",
       "rating[T.Not_Rated]        1.268e-05   4.97e-05      0.255      0.798   -8.47e-05       0.000\n",
       "rating[T.PG]              -5.059e-05      0.001     -0.069      0.945      -0.001       0.001\n",
       "rating[T.PG_13]               0.0004      0.001      0.485      0.627      -0.001       0.002\n",
       "rating[T.R]                9.943e-05      0.000      0.760      0.447      -0.000       0.000\n",
       "rating[T.TV_MA]           -1.178e-06   3.22e-06     -0.366      0.714   -7.49e-06    5.13e-06\n",
       "rating[T.Unrated]         -5.193e-06   4.28e-05     -0.121      0.904   -8.92e-05    7.88e-05\n",
       "rating[T.X]               -2.854e-06    8.1e-06     -0.352      0.725   -1.87e-05     1.3e-05\n",
       "year                          1.0611      0.207      5.129      0.000       0.655       1.467\n",
       "votes                         0.7290      0.072     10.075      0.000       0.587       0.871\n",
       "year:votes                   -0.0003   3.59e-05     -8.584      0.000      -0.000      -0.000\n",
       "budget                       -0.0031      0.000     -9.494      0.000      -0.004      -0.002\n",
       "genre[T.Adventure]:budget  1.547e-05   3.13e-06      4.936      0.000    9.33e-06    2.16e-05\n",
       "genre[T.Animation]:budget  3.931e-05   2.91e-06     13.530      0.000    3.36e-05     4.5e-05\n",
       "genre[T.Biography]:budget -1.731e-05   6.38e-06     -2.713      0.007   -2.98e-05    -4.8e-06\n",
       "genre[T.Comedy]:budget     1.772e-05   3.46e-06      5.121      0.000    1.09e-05    2.45e-05\n",
       "genre[T.Crime]:budget     -1.951e-05   6.28e-06     -3.107      0.002   -3.18e-05    -7.2e-06\n",
       "genre[T.Drama]:budget     -3.771e-06   4.04e-06     -0.932      0.351   -1.17e-05    4.16e-06\n",
       "genre[T.Family]:budget     9.026e-05    1.9e-05      4.739      0.000    5.29e-05       0.000\n",
       "genre[T.Fantasy]:budget   -4.016e-06   2.02e-05     -0.199      0.842   -4.36e-05    3.56e-05\n",
       "genre[T.Horror]:budget     1.102e-05   1.11e-05      0.996      0.319   -1.07e-05    3.27e-05\n",
       "genre[T.Mystery]:budget   -4.864e-06   1.86e-05     -0.262      0.793   -4.13e-05    3.16e-05\n",
       "genre[T.Romance]:budget      -0.0001      0.000     -1.323      0.186      -0.000    6.56e-05\n",
       "genre[T.Sci_Fi]:budget    -4.842e-05   3.59e-05     -1.351      0.177      -0.000    2.19e-05\n",
       "genre[T.Thriller]:budget      0.0001   8.57e-05      1.597      0.110   -3.11e-05       0.000\n",
       "genre[T.Western]:budget   -1.357e-05      0.000     -0.066      0.948      -0.000       0.000\n",
       "year:budget                1.532e-06   1.63e-07      9.389      0.000    1.21e-06    1.85e-06\n",
       "score                      2.733e-05      0.008      0.003      0.997      -0.015       0.015\n",
       "score:votes                  -0.0133      0.001    -20.581      0.000      -0.015      -0.012\n",
       "runtime                      -0.0020      0.007     -0.304      0.761      -0.015       0.011\n",
       "year:runtime                  0.0019      0.004      0.512      0.608      -0.005       0.009\n",
       "score:budget               1.593e-05   1.95e-06      8.162      0.000    1.21e-05    1.98e-05\n",
       "score:runtime                -0.3523      0.785     -0.449      0.654      -1.891       1.187\n",
       "votes:budget               1.847e-11   7.66e-12      2.411      0.016    3.45e-12    3.35e-11\n",
       "votes:runtime              6.572e-05   1.43e-05      4.595      0.000    3.77e-05    9.38e-05\n",
       "I(votes ** 2)             -1.102e-09   8.27e-10     -1.333      0.183   -2.72e-09    5.19e-10\n",
       "I(budget ** 2)            -2.079e-13   2.03e-14    -10.266      0.000   -2.48e-13   -1.68e-13\n",
       "==============================================================================\n",
       "Omnibus:                      565.331   Durbin-Watson:                   1.993\n",
       "Prob(Omnibus):                  0.000   Jarque-Bera (JB):             1938.347\n",
       "Skew:                           0.645   Prob(JB):                         0.00\n",
       "Kurtosis:                       6.012   Cond. No.                     1.44e+18\n",
       "==============================================================================\n",
       "\n",
       "Notes:\n",
       "[1] Standard Errors assume that the covariance matrix of the errors is correctly specified.\n",
       "[2] The condition number is large, 1.44e+18. This might indicate that there are\n",
       "strong multicollinearity or other numerical problems.\n",
       "\"\"\""
      ]
     },
     "execution_count": 19,
     "metadata": {},
     "output_type": "execute_result"
    }
   ],
   "source": [
    "ols_object = smf.ols(formula = 'np.sqrt(gross)~year*votes+year*budget+score*votes+year*runtime+score*budget+score*runtime+votes*budget+votes*runtime+month+genre*budget+rating+I(votes**2)+I(budget**2)', data = train)\n",
    "model= ols_object.fit()\n",
    "model.summary()"
   ]
  },
  {
   "cell_type": "markdown",
   "id": "074fb375",
   "metadata": {},
   "source": [
    "We feel that we succeeded in achieving our goal because we were able to create that could be helpful in understanding the association between various characteristics of a movie and the movie's gross revenue. \n",
    "\n",
    "\n",
    "Since our main goal is inference, we wanted to revisit the linearity and constance variance assumptions that were violated in our base model to ensure that we had addressed these issues. From the residual plot below, which is based on our final model, we "
   ]
  },
  {
   "cell_type": "markdown",
   "id": "25065265",
   "metadata": {},
   "source": [
    "Did you succeed in achieving your goal, or did you fail? Why?"
   ]
  },
  {
   "cell_type": "markdown",
   "id": "1b46343d",
   "metadata": {},
   "source": [
    "## Limitations of the model with regard to inference / prediction"
   ]
  },
  {
   "cell_type": "markdown",
   "id": "c85ead90",
   "metadata": {},
   "source": [
    "If it is inference, will the inference hold for a certain period of time, for a certain subset of population, and / or for certain conditions.\n",
    "\n",
    "If it is prediction, then will it be possible / convenient / expensive for the stakeholders to collect the data relating to the predictors in the model. Using your model, how soon will the stakeholder be able to predict the outcome before the outcome occurs. For example, if the model predicts the number of bikes people will rent in Evanston on a certain day, then how many days before that day will your model be able to make the prediction. This will depend on how soon the data that your model uses becomes available. If you are predicting election results, how many days / weeks / months / years before the election can you predict the results. \n",
    "\n",
    "When will your model become too obsolete to be useful?"
   ]
  },
  {
   "cell_type": "markdown",
   "id": "20e0f110",
   "metadata": {},
   "source": [
    "isabel"
   ]
  },
  {
   "cell_type": "markdown",
   "id": "f6026cb7",
   "metadata": {},
   "source": [
    "## Other sections *(optional)*\n",
    "\n",
    "You are welcome to introduce additional sections or subsections, if required, to address any specific aspects of your project in detail. For example, you may briefly discuss potential future work that the research community could focus on to make further progress in the direction of your project's topic."
   ]
  },
  {
   "cell_type": "markdown",
   "id": "62a185cb",
   "metadata": {},
   "source": [
    "## Conclusions and Recommendations to stakeholder(s)\n",
    "\n",
    "What conclusions do you draw based on your model? If it is inference you may draw conclusions based on the coefficients, statistical significance of predictors / interactions, etc. If it is prediction, you may draw conclusions based on prediction accuracy, or other performance metrics.\n",
    "\n",
    "How do you use those conclusions to come up with meaningful recommendations for stakeholders? The recommendations must be action-items for stakeholders that they can directly implement without any further analysis. Be as precise as possible. The stakeholder(s) are depending on you to come up with practically implementable recommendations, instead of having to think for themselves.\n",
    "\n",
    "If your recommendations are not practically implementable by stakeholders, how will they help them? Is there some additional data / analysis / domain expertise you need to do to make the recommendations implementable? \n",
    "\n",
    "Do the stakeholder(s) need to be aware about some limitations of your model? Is your model only good for one-time use, or is it possible to update your model at a certain frequency (based on recent data) to keep using it in the future? If it can be used in the future, then for how far into the future?"
   ]
  },
  {
   "cell_type": "markdown",
   "id": "4765a53a",
   "metadata": {},
   "source": [
    "artharva"
   ]
  },
  {
   "cell_type": "markdown",
   "id": "9c44497c",
   "metadata": {},
   "source": [
    "## GitHub and individual contribution {-}"
   ]
  },
  {
   "cell_type": "markdown",
   "id": "c98b3f66",
   "metadata": {},
   "source": [
    "Put the **Github link** for the project repository."
   ]
  },
  {
   "cell_type": "markdown",
   "id": "0ca45613",
   "metadata": {},
   "source": [
    "Add details of each team member's contribution in the table below."
   ]
  },
  {
   "cell_type": "markdown",
   "id": "085d2434",
   "metadata": {},
   "source": [
    "aarti"
   ]
  },
  {
   "cell_type": "markdown",
   "id": "5505da5c",
   "metadata": {},
   "source": [
    "<html>\n",
    "<style>\n",
    "table, td, th {\n",
    "  border: 1px solid black;\n",
    "}\n",
    "\n",
    "table {\n",
    "  border-collapse: collapse;\n",
    "  width: 100%;\n",
    "}\n",
    "\n",
    "th {\n",
    "  text-align: left;\n",
    "}\n",
    "    \n",
    "\n",
    "</style>\n",
    "<body>\n",
    "\n",
    "<h2>Individual contribution</h2>\n",
    "\n",
    "<table style=\"width:100%\">\n",
    "     <colgroup>\n",
    "       <col span=\"1\" style=\"width: 15%;\">\n",
    "       <col span=\"1\" style=\"width: 20%;\">\n",
    "       <col span=\"1\" style=\"width: 50%;\">\n",
    "       <col span=\"1\" style=\"width: 15%;\"> \n",
    "    </colgroup>\n",
    "  <tr>\n",
    "    <th>Team member</th>\n",
    "    <th>Contributed aspects</th>\n",
    "    <th>Details</th>\n",
    "    <th>Number of GitHub commits</th>\n",
    "  </tr>\n",
    "  <tr>\n",
    "    <td>Elton John</td>\n",
    "    <td>Data cleaning and EDA</td>\n",
    "    <td>Cleaned data to impute missing values and developed visualizations to identify appropriate variable transformations.</td>\n",
    "    <td>100</td>\n",
    "  </tr>\n",
    "  <tr>\n",
    "    <td>Xena Valenzuela</td>\n",
    "    <td>Assumptions and interactions</td>\n",
    "    <td>Checked and addressed modeling assumptions and identified relevant variable interactions.</td>\n",
    "    <td>120</td>\n",
    "  </tr>\n",
    "    <tr>\n",
    "    <td>Sankaranarayanan Balasubramanian</td>\n",
    "    <td>Outlier and influential points treatment</td>\n",
    "    <td>Identified outliers/influential points and analayzed their effect on the model.</td>\n",
    "    <td>130</td>    \n",
    "  </tr>\n",
    "    <tr>\n",
    "    <td>Chun-Li</td>\n",
    "    <td>Variable selection and addressing overfitting</td>\n",
    "    <td>Performed variable selection on an exhaustive set of predictors to address multicollinearity and overfitting.</td>\n",
    "    <td>150</td>    \n",
    "  </tr>\n",
    "</table>"
   ]
  },
  {
   "cell_type": "markdown",
   "id": "192bbd23",
   "metadata": {},
   "source": [
    "List the **challenges** you faced when collaborating with the team on GitHub. Are you comfortable using GitHub? \n",
    "Do you feel GitHuB made collaboration easier? If not, then why? *(Individual team members can put their opinion separately, if different from the rest of the team)*"
   ]
  },
  {
   "cell_type": "markdown",
   "id": "00b1cafe",
   "metadata": {},
   "source": [
    "## References {-}"
   ]
  },
  {
   "cell_type": "markdown",
   "id": "ebdb1aad",
   "metadata": {},
   "source": [
    "List and number all bibliographical references. When referenced in the text, enclose the citation number in square brackets, for example [1].\n",
    "\n",
    "[1] Authors. The frobnicatable foo filter, 2014. Face and Gesture submission ID 324. Supplied as additional material\n",
    "fg324.pdf. 3\n"
   ]
  },
  {
   "cell_type": "markdown",
   "id": "5831751c",
   "metadata": {},
   "source": [
    "## Appendix {-}"
   ]
  },
  {
   "cell_type": "markdown",
   "id": "d13d374d",
   "metadata": {},
   "source": [
    "You may put additional stuff here as Appendix. You may refer to the Appendix in the main report to support your arguments. However, the appendix section is unlikely to be checked while grading, unless the grader deems it necessary."
   ]
  }
 ],
 "metadata": {
  "kernelspec": {
   "display_name": "Python 3 (ipykernel)",
   "language": "python",
   "name": "python3"
  },
  "language_info": {
   "codemirror_mode": {
    "name": "ipython",
    "version": 3
   },
   "file_extension": ".py",
   "mimetype": "text/x-python",
   "name": "python",
   "nbconvert_exporter": "python",
   "pygments_lexer": "ipython3",
   "version": "3.9.12"
  }
 },
 "nbformat": 4,
 "nbformat_minor": 5
}
