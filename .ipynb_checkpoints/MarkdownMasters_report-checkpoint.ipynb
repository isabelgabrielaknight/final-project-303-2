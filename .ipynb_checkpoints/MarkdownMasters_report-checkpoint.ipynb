{
 "cells": [
  {
   "cell_type": "raw",
   "id": "33dd6c4c",
   "metadata": {},
   "source": [
    "---\n",
    "title: \"Project Report\"\n",
    "subtitle: Markdown Masters\n",
    "author: Isabel Knight, Aarti Pappu, Lilly Sorkin, and Artharva Weling \n",
    "date: 03/13/2023\n",
    "number-sections: true\n",
    "abstract: _This file contains the code for the project on Movie Revenue Inference, as part of the STAT303-2 course in Winter 2023_.\n",
    "format: \n",
    "  html:\n",
    "    toc: true\n",
    "    toc-title: Contents\n",
    "    self-contained: true\n",
    "    font-size: 100%\n",
    "    toc-depth: 4\n",
    "    mainfont: serif\n",
    "    code-fold: true\n",
    "jupyter: python3\n",
    "---"
   ]
  },
  {
   "cell_type": "markdown",
   "id": "aba5ee91",
   "metadata": {},
   "source": [
    "## Length of the report {-}\n",
    "The length of the report must be no more than 15 pages, when printed as PDF. However, there is no requirement on the minimum number of pages.\n",
    "\n",
    "You may put additional stuff as Appendix. You may refer to the Appendix in the main report to support your arguments. However, your appendix is unlikely to be checked while grading, unless the grader deems it necessary. The appendix, references, and information about GitHub and individual contribution will not be included in the page count, and there is no limit on the length of the appendix.\n",
    "\n",
    "**Delete this section from the report, when using this template.** "
   ]
  },
  {
   "cell_type": "markdown",
   "id": "93d3d9ed",
   "metadata": {},
   "source": [
    "## Code should be put separately in the code template {-}\n",
    "Your report should be in a research-paper like style. If there is something that can only be explained by showing the code, then you may put it, otherwise do not put the code in the report. We will check your code in the code template. \n",
    "\n",
    "**Delete this section from the report, when using this template.** "
   ]
  },
  {
   "cell_type": "markdown",
   "id": "0116f49b",
   "metadata": {},
   "source": [
    "## Background / Motivation\n",
    "\n",
    "What motivated you to work on this problem?\n",
    "\n",
    "Mention any background about the problem, if it is required to understand your analysis later on."
   ]
  },
  {
   "cell_type": "code",
   "execution_count": null,
   "id": "bd0da149",
   "metadata": {},
   "outputs": [],
   "source": [
    "isabel "
   ]
  },
  {
   "cell_type": "markdown",
   "id": "84ff1421",
   "metadata": {},
   "source": [
    "## Problem statement \n",
    "\n",
    "Describe your problem statement. Articulate your objectives using absolutely no jargon. Interpret the problem as inference and/or prediction."
   ]
  },
  {
   "cell_type": "markdown",
   "id": "c43eb8d4",
   "metadata": {},
   "source": [
    "We are interested in understanding which factors contribute to the gross revenue of a movie, especially a high-grossing movie. By looking at a number of different variables, including budget, genre, rating, and continent, we hope to better understand the relationships between these factors and the gross revenue of a movie.\n",
    "\n",
    "This is an inference problem since we are trying to understand the relationships between different predictors and the gross revenue rather than actually predicting the gross revenue of a movie."
   ]
  },
  {
   "cell_type": "markdown",
   "id": "38c7b95f",
   "metadata": {},
   "source": [
    "## Data sources\n",
    "What data did you use? Provide details about your data. Include links to data if you are using open-access data."
   ]
  },
  {
   "cell_type": "markdown",
   "id": "64ad6f38",
   "metadata": {},
   "source": [
    "Our data, \"Movies Industries\", is from user Daniel Grijalva on Kaggle (https://www.kaggle.com/datasets/danielgrijalvas/movies)\n",
    "\n",
    "The dataset provides information on 6820 movies (220 movies per year, 1986-2016). The data was scraped from IMDb. While the dataset contained 16 variables, we only used the following 9 to develop our model:\n",
    "- budget: the budget of a movie. Some movies don't have this, so it appears as 0\n",
    "- country: country of origin\n",
    "- genre: main genre of the movie.\n",
    "- gross: revenue of the movie\n",
    "- rating: rating of the movie (R, PG, etc.)\n",
    "- runtime: duration of the movie\n",
    "- score: IMDb user rating\n",
    "- votes: number of user votes\n",
    "- year: year of release\n",
    "- released: release date (YYYY-MM-DD)"
   ]
  },
  {
   "cell_type": "markdown",
   "id": "8c255035",
   "metadata": {},
   "source": [
    "## Stakeholders\n",
    "Who cares? If you are successful, what difference will it make to them?"
   ]
  },
  {
   "cell_type": "markdown",
   "id": "96505694",
   "metadata": {},
   "source": [
    "We have three main stakeholders:\n",
    "1. **Filmmakers, such as directors and producers, and investors in the film industry:**\n",
    "By understanding key relationships between revenue and variables such as actors, year, etc., filmmakers can strategically make decisions about their movies to attain the most revenue possible. Investors in the film industry and studio executives will be interested in our analysis for the same reasons as filmmakers. If investors understand the key relationships that we will analyze, such as an actor that is consistently in top grossing movies, investors can better assess if a movie is worth investing in.\n",
    "2. **Everyday movie goers (like us!):**\n",
    "If a movie has a high gross revenue, it’s normally safe to assume the movie is good and worthwhile. Understanding the relationships found in our model can help everyday movie goers enhance their experiences by watching high-grossing movies. \n",
    "3. **People looking for/approached to have their work be adapted into a film:**\n",
    "Similar to filmmakers, if someone is going to have their work turned into a movie, they can use the relationships that we find in our model to determine if this venture is worthwhile or if they need to make some adjustments. For example, the genre of true crime has boomed in the last few years; if someone has a story relating to true crime, whether they are a victim who wants to tell a story or have written a fictional story, they can use this relationship to their advantage and have their movie be more popular/more fruitful now than it would have been in the past. Understanding these relationships of what will make their movie successful."
   ]
  },
  {
   "cell_type": "markdown",
   "id": "fe7ea9bb",
   "metadata": {},
   "source": [
    "## Data quality check / cleaning / preparation \n",
    "\n",
    "In a tabular form, show the distribution of values of each variable used in the analysis - for both categorical and continuous variables. Distribution of a categorical variable must include the number of missing values, the number of unique values, the frequency of all its levels. If a categorical variable has too many levels, you may just include the counts of the top 3-5 levels. \n",
    "\n",
    "If the tables in this section take too much space, you may put them in the appendix, and just mention any useful insights you obtained from the data quality check that helped you develop the model or helped you realize the necessary data cleaning / preparation.\n",
    "\n",
    "Were there any potentially incorrect values of variables that required cleaning? If yes, how did you clean them? \n",
    "\n",
    "Did you do any data wrangling or data preparation before the data was ready to use for model development? Did you create any new predictors from exisiting predictors? For example, if you have number of transactions and spend in a credit card dataset, you may create spend per transaction for predicting if a customer pays their credit card bill. Mention the steps at a broad level, you may put minor details in the appendix. Only mention the steps that ended up being useful towards developing your final model(s)."
   ]
  },
  {
   "cell_type": "code",
   "execution_count": 3,
   "id": "595ae20e",
   "metadata": {},
   "outputs": [],
   "source": [
    "import pandas as pd\n",
    "import numpy as np\n",
    "import statsmodels.formula.api as smf\n",
    "import seaborn as sns\n",
    "import matplotlib.pyplot as plt\n",
    "import statsmodels.api as sm\n",
    "import itertools\n",
    "import time"
   ]
  },
  {
   "cell_type": "code",
   "execution_count": 4,
   "id": "baa42ec6",
   "metadata": {},
   "outputs": [],
   "source": [
    "train = pd.read_csv('train.csv')\n",
    "test = pd.read_csv('test.csv')\n",
    "train_filtered = pd.read_csv('train_filtered.csv')"
   ]
  },
  {
   "cell_type": "markdown",
   "id": "9d107cb9",
   "metadata": {},
   "source": [
    "lily"
   ]
  },
  {
   "cell_type": "markdown",
   "id": "4cb6b6f7",
   "metadata": {},
   "source": [
    "Before the data could be used for model development, existing predictors were created from new predictors. Using the `country` for each movie, a `continent` variable was created for each movie to generalize the region of origin for each movie (since country is very specific). Furthermore, the `released` variable to create a `month` variable for each movie (reflecting the month in which the movie was released) in order to see seasonal/yearly trends in the data."
   ]
  },
  {
   "cell_type": "markdown",
   "id": "fbb11c9b",
   "metadata": {},
   "source": [
    "## Exploratory data analysis"
   ]
  },
  {
   "cell_type": "markdown",
   "id": "e4bd74a9",
   "metadata": {},
   "source": [
    "Put the relevant EDA here (visualizations, tables, etc.) that helped you figure out useful predictors for developing the model(s). Only put the EDA that ended up being useful towards developing your final model(s). \n",
    "\n",
    "List the insights (as bullet points) you got from EDA that ended up being useful towards developing your final model. \n",
    "\n",
    "Again, if there are too many plots / tables, you may put them into appendix, and just mention the insights you got from them."
   ]
  },
  {
   "cell_type": "markdown",
   "id": "d175dd5a",
   "metadata": {},
   "source": [
    "isabel"
   ]
  },
  {
   "cell_type": "code",
   "execution_count": null,
   "id": "3ffc795e",
   "metadata": {},
   "outputs": [],
   "source": [
    "# pairplot of gross vs variables (year, budget, votes, score, runtime) , and plot of score vs votes"
   ]
  },
  {
   "cell_type": "code",
   "execution_count": 10,
   "id": "9c976393",
   "metadata": {},
   "outputs": [
    {
     "data": {
      "text/plain": [
       "<AxesSubplot:xlabel='year', ylabel='gross'>"
      ]
     },
     "execution_count": 10,
     "metadata": {},
     "output_type": "execute_result"
    },
    {
     "data": {
      "image/png": "[encoded data removed]",
      "text/plain": [
       "<Figure size 432x288 with 1 Axes>"
      ]
     },
     "metadata": {
      "needs_background": "light"
     },
     "output_type": "display_data"
    }
   ],
   "source": [
    "sns.lineplot(data = train, x = 'year', y = 'gross')"
   ]
  },
  {
   "cell_type": "code",
   "execution_count": 9,
   "id": "d83774cf",
   "metadata": {},
   "outputs": [
    {
     "data": {
      "image/png": "[encoded data removed]",
      "text/plain": [
       "<Figure size 432x288 with 1 Axes>"
      ]
     },
     "metadata": {
      "needs_background": "light"
     },
     "output_type": "display_data"
    },
    {
     "data": {
      "image/png": "[encoded data removed]",
      "text/plain": [
       "<Figure size 432x288 with 1 Axes>"
      ]
     },
     "metadata": {
      "needs_background": "light"
     },
     "output_type": "display_data"
    },
    {
     "data": {
      "image/png": "[encoded data removed]",
      "text/plain": [
       "<Figure size 432x288 with 1 Axes>"
      ]
     },
     "metadata": {
      "needs_background": "light"
     },
     "output_type": "display_data"
    }
   ],
   "source": [
    "# visualizations of categorical variables vs gross\n",
    "for col in ['rating','genre', 'month']:\n",
    "    sns.boxplot(x = col, y = np.log(train.gross), data = train)\n",
    "    plt.show()"
   ]
  },
  {
   "cell_type": "markdown",
   "id": "1a2eb100",
   "metadata": {},
   "source": [
    "**Insights from EDA:**\n",
    "\n",
    "- Through the pairplot (below), we saw that gross had a quadratic relationship with the numeric predictors. Therefore, we knew that we would likely have to transform `gross` in our model. We also saw that `gross` was highly correlated with `budget`, `votes`, `score`. We also saw a strong correlation between `votes` and `score`. \n",
    "- We also wanted to further examine the relationship between the categorical variables, `rating`, `genre`, and `month`, with the response. A boxplot showed that some genres, such as family, animation, and action, tended to have more high-grossing movies compared to other genres. \n",
    "- \n",
    "- "
   ]
  },
  {
   "cell_type": "markdown",
   "id": "d39c782c",
   "metadata": {},
   "source": [
    "## Approach\n",
    "\n",
    "What kind of a model (linear / logistic / other) did you use? What performance metric(s) did you optimize and why?\n",
    "\n",
    "Is there anything unorthodox / new in your approach? \n",
    "\n",
    "What problems did you anticipate? What problems did you encounter? Did the very first model you tried work? \n",
    "\n",
    "Did your problem already have solution(s) (posted on Kaggle or elsewhere). If yes, then how did you build upon those solutions, what did you do differently? Is your model better as compared to those solutions in terms of prediction / inference?\n",
    "\n",
    "**Important: Mention any code repositories (with citations) or other sources that you used, and specifically what changes you made to them for your project.**"
   ]
  },
  {
   "cell_type": "markdown",
   "id": "873c5d4c",
   "metadata": {},
   "source": [
    "We used a linear model. Since we were mainly interested in inference, we were mainly interested in optimizing R^2 since this is indication of a model's fit to the data. However, we also were interested in comparing the RSE and RMSE of our data to analyze/detect any under/overfitting in the data. We chose RMSE because we wanted penalize larger errors for the sake of our stakeholders."
   ]
  },
  {
   "cell_type": "markdown",
   "id": "1d34299d",
   "metadata": {},
   "source": [
    "aarti, artharva"
   ]
  },
  {
   "cell_type": "markdown",
   "id": "acab331a",
   "metadata": {},
   "source": [
    "## Developing the model"
   ]
  },
  {
   "cell_type": "markdown",
   "id": "ae5ec4c9",
   "metadata": {},
   "source": [
    "Explain the steps taken to develop and improve the base model - informative visualizations / addressing modeling assumption violations / variable transformation / interactions / outlier treatment / influential points treatment / addressing over-fitting / addressing multicollinearity / variable selection - stepwise regression, lasso, ridge regression). \n",
    "\n",
    "Did you succeed in achieving your goal, or did you fail? Why?\n",
    "\n",
    "**Put the final model equation**.\n",
    "\n",
    "**Important: This section should be rigorous and thorough. Present detailed information about decision you made, why you made them, and any evidence/experimentation to back them up.**"
   ]
  },
  {
   "cell_type": "markdown",
   "id": "c8fc7f7e",
   "metadata": {},
   "source": [
    "Based on the base model (model with all variables and no transformation/interaction terms), we identified significant predictors from those whose p-values were less than the statistically significant level (0.05, which is associated with a 95% confidence interval) `budget`, `votes`, `score` were signifcant. Some of the categories of `genre`, `rating`, and `decade` also were signifcant. `runtime`, `continent`, and `year` did not seem signficant. This provided us with a general idea of the linear association between `gross` and the predictors and a baseline from which to build our model. \n",
    "\n",
    "Using our base model, we first wanted to check if our model satisfied the linearity and constant variance assumptions as well as check for potential problems such as multicollinearity and influential points. Through the residual plot of our base model (below), we saw that our model satisfied the linearity assumption since the residuals are distributed more or less in a similar manner on both sides of the line Residuals = 0 for all fitted values. However, we saw that there was non-constant variance of the error terms (heteroskasticity), as the variance of errors seems to increase with increase in the fitted values. This was justified by the quadratic relationships we observed between `gross` and the predictors during our EDA Therefore, we knew that we would have to transform the response `gross` in our model. "
   ]
  },
  {
   "cell_type": "code",
   "execution_count": 7,
   "id": "8355ae33",
   "metadata": {},
   "outputs": [
    {
     "data": {
      "text/plain": [
       "Text(0, 0.5, 'Residuals')"
      ]
     },
     "execution_count": 7,
     "metadata": {},
     "output_type": "execute_result"
    },
    {
     "data": {
      "image/png": "[encoded data removed]",
      "text/plain": [
       "<Figure size 504x288 with 1 Axes>"
      ]
     },
     "metadata": {},
     "output_type": "display_data"
    }
   ],
   "source": [
    "ols_object = smf.ols(formula = 'gross~budget+genre+rating+votes+continent+runtime+month+score+year', data = train)\n",
    "model = ols_object.fit()\n",
    "pred_gross = model.predict(test)\n",
    "plt.rcParams[\"figure.figsize\"] = (7,4)\n",
    "sns.set(font_scale=1.25)\n",
    "ax = sns.scatterplot(x = model.fittedvalues, y=model.resid,color = 'orange')\n",
    "sns.lineplot(x = [pred_gross.min(),pred_gross.max()],y = [0,0],color = 'blue')\n",
    "plt.xlabel('Fitted values')\n",
    "plt.ylabel('Residuals')"
   ]
  },
  {
   "cell_type": "markdown",
   "id": "d35c22ec",
   "metadata": {},
   "source": [
    "We also wanted to check for potential issues with the data/predictors before working to create our model by checking for multicollinearity between variables and influential points in the data. We conducted a VIF test to check for multicollinearity. Since the VIFs for all the numeric variables were less than 2, we concluded that multicollinearity would not affect our model and inference (see 1 in Appendix). We also checked for influential points by finding the intersection of the points that were both outliers and high leverage from our base model. We found 6 influential points in the dataset and removed them (moving forward, we use the 'train_filtered' dataset rather than the 'train' dataset -- train_filtered has the same data as train but excluding the influential points).\n",
    "\n",
    "In order to determine what variables to use in our model, we chose to do variable selection. In order to prep the data for variable selection, we created dummy variables for the categorical variables (`genre`, `rating`, `month`, and `continent`). Since creating dummies from the categorical variables greatly increased the number of predictors in our dataset, we opted to do either forward or backward stepwise selection since subset selection would require too much computational power. Ultimately, we chose to use backwards stepwise selection because we suspected collinearity would be created from the dummy variables, and backward stepwise may be forced to keep them all in the model unlike forward selection where none of them might be entered. After backward stepwise selection was performed, the model with 8 predictors resulted in the lowest BIC and was chosen as the best model.\n",
    "\n",
    "In the best model, all the predictors were significant with p-values less than 0.05. The model included two main numerical predictors: `budget` and `votes`, similar to our base model. The model also chose some levels of the categorical predictors that we had suspected to be associated with the response based on our EDA. For example, `Animation`, `Family`, and `Horror` were all selected predictors, indicating that these are `genre` is associated with the response. `October` was also a predictor in the best model, indicating that `month` has an affiliation with `gross`. Lastly, the ratings `PG` and `PG-13` were in the best model, indicating that `rating` also affected `gross`.\n",
    "\n",
    "However, we also wanted to consider interaction terms in our variable selection method. However, due to the large number of predictors that resulted from the dummies of the categorical variables, it was not feasible to run backwards variable selection on all of the predictors and their interaction terms (as this would result in 1176 predictors). Therefore, we decided instead to do backwards variable selection again considering interactions, but only the interactions between the quantitiative variables. \n",
    "\n",
    "From the variable selection considering the interaction terms between the quantitative predictors, and selecting the best model using BIC, we saw that many interaction terms were significant. Similar to the first variable selection, `budget` and `votes` were signficant. However, `runtime` `year:score`, `year:votes`,  `year:budget`,  `year:runtime`, `score:votes`,  `score:budget`, `score:runtime`,  `votes:budget`,  and `votes:runtime` were also significant. \n",
    "\n",
    "Construction of our final model began by using the best model resulting from variable selection considering the interaction terms between the quantitative predictors. Therefore, all of the predictors that were signficant (listed above) were included in the model. Then, we added in significant categorical variables based on the results of the backward selection with the categorical variables and our own intuition. Since levels of `genre`, `rating`, and `month` were all signficant, we decided to include these three categorical variables in the model. However, we decided to create an interaction term between `genre` and `budget` because we knew logically that the genre of a movie affects its budget. For example, an action movie will typically have a larger budget than an indie movie. We wanted to reflect this relationship in the final model.\n",
    "\n",
    "Once all of the interactions were considered, we also decided to add some transformation terms to improve the fit of our model. Based on our initial EDA, we knew that we would have to square root the response `gross` in our final model since all of the numeric variables reflected a quadratic relationship with gross. However, we were curious to see if there were still transformations of the predictors that could be made to improve the fit of the model. Therefore, we made scatterplots of the predictors against the natural log of `gross` (see 2 in Appendix). This revealed that there was still a quadratic relationship between `budget` and `votes` with the predictor. As such, we decided to transform `budget` and `votes` quadratically. "
   ]
  },
  {
   "cell_type": "markdown",
   "id": "cf25deef",
   "metadata": {},
   "source": [
    "**Our final model is:**"
   ]
  },
  {
   "cell_type": "code",
   "execution_count": 10,
   "id": "4efd41b3",
   "metadata": {
    "scrolled": false
   },
   "outputs": [
    {
     "data": {
      "text/html": [
       "<table class=\"simpletable\">\n",
       "<caption>OLS Regression Results</caption>\n",
       "<tr>\n",
       "  <th>Dep. Variable:</th>     <td>np.sqrt(gross)</td>  <th>  R-squared:         </th> <td>   0.773</td> \n",
       "</tr>\n",
       "<tr>\n",
       "  <th>Model:</th>                   <td>OLS</td>       <th>  Adj. R-squared:    </th> <td>   0.772</td> \n",
       "</tr>\n",
       "<tr>\n",
       "  <th>Method:</th>             <td>Least Squares</td>  <th>  F-statistic:       </th> <td>   586.6</td> \n",
       "</tr>\n",
       "<tr>\n",
       "  <th>Date:</th>             <td>Mon, 13 Mar 2023</td> <th>  Prob (F-statistic):</th>  <td>  0.00</td>  \n",
       "</tr>\n",
       "<tr>\n",
       "  <th>Time:</th>                 <td>11:35:32</td>     <th>  Log-Likelihood:    </th> <td> -40862.</td> \n",
       "</tr>\n",
       "<tr>\n",
       "  <th>No. Observations:</th>      <td>  4327</td>      <th>  AIC:               </th> <td>8.178e+04</td>\n",
       "</tr>\n",
       "<tr>\n",
       "  <th>Df Residuals:</th>          <td>  4301</td>      <th>  BIC:               </th> <td>8.194e+04</td>\n",
       "</tr>\n",
       "<tr>\n",
       "  <th>Df Model:</th>              <td>    25</td>      <th>                     </th>     <td> </td>    \n",
       "</tr>\n",
       "<tr>\n",
       "  <th>Covariance Type:</th>      <td>nonrobust</td>    <th>                     </th>     <td> </td>    \n",
       "</tr>\n",
       "</table>\n",
       "<table class=\"simpletable\">\n",
       "<tr>\n",
       "              <td></td>                 <th>coef</th>     <th>std err</th>      <th>t</th>      <th>P>|t|</th>  <th>[0.025</th>    <th>0.975]</th>  \n",
       "</tr>\n",
       "<tr>\n",
       "  <th>Intercept</th>                 <td>   -0.0009</td> <td>    0.000</td> <td>   -5.156</td> <td> 0.000</td> <td>   -0.001</td> <td>   -0.001</td>\n",
       "</tr>\n",
       "<tr>\n",
       "  <th>month[T.August]</th>           <td>    0.0014</td> <td>    0.002</td> <td>    0.666</td> <td> 0.506</td> <td>   -0.003</td> <td>    0.006</td>\n",
       "</tr>\n",
       "<tr>\n",
       "  <th>month[T.December]</th>         <td>   -0.0001</td> <td>    0.000</td> <td>   -0.705</td> <td> 0.481</td> <td>   -0.001</td> <td>    0.000</td>\n",
       "</tr>\n",
       "<tr>\n",
       "  <th>month[T.February]</th>         <td>-2.302e-05</td> <td>    0.000</td> <td>   -0.151</td> <td> 0.880</td> <td>   -0.000</td> <td>    0.000</td>\n",
       "</tr>\n",
       "<tr>\n",
       "  <th>month[T.January]</th>          <td>    0.0001</td> <td>    0.000</td> <td>    0.455</td> <td> 0.649</td> <td>   -0.000</td> <td>    0.001</td>\n",
       "</tr>\n",
       "<tr>\n",
       "  <th>month[T.July]</th>             <td>  9.36e-05</td> <td> 2.54e-05</td> <td>    3.687</td> <td> 0.000</td> <td> 4.38e-05</td> <td>    0.000</td>\n",
       "</tr>\n",
       "<tr>\n",
       "  <th>month[T.June]</th>             <td> 7.119e-06</td> <td> 6.13e-06</td> <td>    1.160</td> <td> 0.246</td> <td>-4.91e-06</td> <td> 1.91e-05</td>\n",
       "</tr>\n",
       "<tr>\n",
       "  <th>month[T.March]</th>            <td>-1.773e-05</td> <td>    0.000</td> <td>   -0.085</td> <td> 0.932</td> <td>   -0.000</td> <td>    0.000</td>\n",
       "</tr>\n",
       "<tr>\n",
       "  <th>month[T.May]</th>              <td> 3.748e-05</td> <td> 5.15e-05</td> <td>    0.727</td> <td> 0.467</td> <td>-6.36e-05</td> <td>    0.000</td>\n",
       "</tr>\n",
       "<tr>\n",
       "  <th>month[T.November]</th>         <td>-4.087e-05</td> <td>    0.000</td> <td>   -0.195</td> <td> 0.845</td> <td>   -0.000</td> <td>    0.000</td>\n",
       "</tr>\n",
       "<tr>\n",
       "  <th>month[T.October]</th>          <td> 4.519e-05</td> <td> 5.01e-05</td> <td>    0.901</td> <td> 0.367</td> <td>-5.31e-05</td> <td>    0.000</td>\n",
       "</tr>\n",
       "<tr>\n",
       "  <th>month[T.September]</th>        <td> 7.769e-05</td> <td> 4.63e-05</td> <td>    1.677</td> <td> 0.094</td> <td>-1.32e-05</td> <td>    0.000</td>\n",
       "</tr>\n",
       "<tr>\n",
       "  <th>genre[T.Adventure]</th>        <td> 5.445e-05</td> <td> 7.99e-05</td> <td>    0.681</td> <td> 0.496</td> <td>   -0.000</td> <td>    0.000</td>\n",
       "</tr>\n",
       "<tr>\n",
       "  <th>genre[T.Animation]</th>        <td> 5.261e-05</td> <td>    0.000</td> <td>    0.365</td> <td> 0.715</td> <td>   -0.000</td> <td>    0.000</td>\n",
       "</tr>\n",
       "<tr>\n",
       "  <th>genre[T.Biography]</th>        <td>-3.651e-05</td> <td>  3.4e-05</td> <td>   -1.075</td> <td> 0.282</td> <td>   -0.000</td> <td> 3.01e-05</td>\n",
       "</tr>\n",
       "<tr>\n",
       "  <th>genre[T.Comedy]</th>           <td>    0.0003</td> <td>    0.000</td> <td>    1.725</td> <td> 0.085</td> <td>-3.44e-05</td> <td>    0.001</td>\n",
       "</tr>\n",
       "<tr>\n",
       "  <th>genre[T.Crime]</th>            <td>-9.392e-05</td> <td>    0.000</td> <td>   -0.423</td> <td> 0.672</td> <td>   -0.001</td> <td>    0.000</td>\n",
       "</tr>\n",
       "<tr>\n",
       "  <th>genre[T.Drama]</th>            <td>   -0.0001</td> <td>    0.000</td> <td>   -1.159</td> <td> 0.247</td> <td>   -0.000</td> <td>    0.000</td>\n",
       "</tr>\n",
       "<tr>\n",
       "  <th>genre[T.Family]</th>           <td> 1.528e-10</td> <td> 2.79e-11</td> <td>    5.471</td> <td> 0.000</td> <td>  9.8e-11</td> <td> 2.08e-10</td>\n",
       "</tr>\n",
       "<tr>\n",
       "  <th>genre[T.Fantasy]</th>          <td>-2.172e-07</td> <td>  3.2e-05</td> <td>   -0.007</td> <td> 0.995</td> <td>-6.29e-05</td> <td> 6.24e-05</td>\n",
       "</tr>\n",
       "<tr>\n",
       "  <th>genre[T.Horror]</th>           <td>    0.0002</td> <td>    0.000</td> <td>    1.125</td> <td> 0.261</td> <td>   -0.000</td> <td>    0.000</td>\n",
       "</tr>\n",
       "<tr>\n",
       "  <th>genre[T.Mystery]</th>          <td>  3.39e-06</td> <td> 6.11e-06</td> <td>    0.555</td> <td> 0.579</td> <td>-8.58e-06</td> <td> 1.54e-05</td>\n",
       "</tr>\n",
       "<tr>\n",
       "  <th>genre[T.Romance]</th>          <td>-1.478e-06</td> <td> 9.58e-07</td> <td>   -1.542</td> <td> 0.123</td> <td>-3.36e-06</td> <td> 4.01e-07</td>\n",
       "</tr>\n",
       "<tr>\n",
       "  <th>genre[T.Sci_Fi]</th>           <td>-6.182e-06</td> <td> 1.87e-05</td> <td>   -0.331</td> <td> 0.741</td> <td>-4.28e-05</td> <td> 3.05e-05</td>\n",
       "</tr>\n",
       "<tr>\n",
       "  <th>genre[T.Thriller]</th>         <td> 6.508e-06</td> <td>  1.6e-05</td> <td>    0.406</td> <td> 0.685</td> <td>-2.49e-05</td> <td> 3.79e-05</td>\n",
       "</tr>\n",
       "<tr>\n",
       "  <th>genre[T.Western]</th>          <td> 1.462e-07</td> <td> 5.49e-07</td> <td>    0.267</td> <td> 0.790</td> <td>-9.29e-07</td> <td> 1.22e-06</td>\n",
       "</tr>\n",
       "<tr>\n",
       "  <th>rating[T.G]</th>               <td> 4.675e-05</td> <td> 7.85e-05</td> <td>    0.596</td> <td> 0.551</td> <td>   -0.000</td> <td>    0.000</td>\n",
       "</tr>\n",
       "<tr>\n",
       "  <th>rating[T.NC_17]</th>           <td>-3.127e-06</td> <td> 1.26e-05</td> <td>   -0.248</td> <td> 0.804</td> <td>-2.79e-05</td> <td> 2.16e-05</td>\n",
       "</tr>\n",
       "<tr>\n",
       "  <th>rating[T.Not_Rated]</th>       <td> 1.706e-05</td> <td> 4.94e-05</td> <td>    0.345</td> <td> 0.730</td> <td>-7.99e-05</td> <td>    0.000</td>\n",
       "</tr>\n",
       "<tr>\n",
       "  <th>rating[T.PG]</th>              <td>   -0.0001</td> <td>    0.001</td> <td>   -0.161</td> <td> 0.872</td> <td>   -0.002</td> <td>    0.001</td>\n",
       "</tr>\n",
       "<tr>\n",
       "  <th>rating[T.PG_13]</th>           <td>    0.0005</td> <td>    0.001</td> <td>    0.579</td> <td> 0.563</td> <td>   -0.001</td> <td>    0.002</td>\n",
       "</tr>\n",
       "<tr>\n",
       "  <th>rating[T.R]</th>               <td> 9.336e-05</td> <td>    0.000</td> <td>    0.726</td> <td> 0.468</td> <td>   -0.000</td> <td>    0.000</td>\n",
       "</tr>\n",
       "<tr>\n",
       "  <th>rating[T.TV_MA]</th>           <td>-9.068e-07</td> <td> 3.19e-06</td> <td>   -0.284</td> <td> 0.777</td> <td>-7.17e-06</td> <td> 5.36e-06</td>\n",
       "</tr>\n",
       "<tr>\n",
       "  <th>rating[T.Unrated]</th>         <td>-9.053e-06</td> <td> 4.27e-05</td> <td>   -0.212</td> <td> 0.832</td> <td>-9.27e-05</td> <td> 7.46e-05</td>\n",
       "</tr>\n",
       "<tr>\n",
       "  <th>rating[T.X]</th>               <td>-3.595e-06</td> <td> 8.08e-06</td> <td>   -0.445</td> <td> 0.656</td> <td>-1.94e-05</td> <td> 1.22e-05</td>\n",
       "</tr>\n",
       "<tr>\n",
       "  <th>year</th>                      <td>    1.0643</td> <td>    0.206</td> <td>    5.159</td> <td> 0.000</td> <td>    0.660</td> <td>    1.469</td>\n",
       "</tr>\n",
       "<tr>\n",
       "  <th>votes</th>                     <td>    0.6902</td> <td>    0.072</td> <td>    9.525</td> <td> 0.000</td> <td>    0.548</td> <td>    0.832</td>\n",
       "</tr>\n",
       "<tr>\n",
       "  <th>year:votes</th>                <td>   -0.0003</td> <td> 3.59e-05</td> <td>   -8.047</td> <td> 0.000</td> <td>   -0.000</td> <td>   -0.000</td>\n",
       "</tr>\n",
       "<tr>\n",
       "  <th>budget</th>                    <td>   -0.0030</td> <td>    0.000</td> <td>   -9.260</td> <td> 0.000</td> <td>   -0.004</td> <td>   -0.002</td>\n",
       "</tr>\n",
       "<tr>\n",
       "  <th>genre[T.Adventure]:budget</th> <td> 1.549e-05</td> <td> 3.12e-06</td> <td>    4.960</td> <td> 0.000</td> <td> 9.37e-06</td> <td> 2.16e-05</td>\n",
       "</tr>\n",
       "<tr>\n",
       "  <th>genre[T.Animation]:budget</th> <td> 3.935e-05</td> <td>  2.9e-06</td> <td>   13.559</td> <td> 0.000</td> <td> 3.37e-05</td> <td>  4.5e-05</td>\n",
       "</tr>\n",
       "<tr>\n",
       "  <th>genre[T.Biography]:budget</th> <td>-1.736e-05</td> <td> 6.36e-06</td> <td>   -2.730</td> <td> 0.006</td> <td>-2.98e-05</td> <td>-4.89e-06</td>\n",
       "</tr>\n",
       "<tr>\n",
       "  <th>genre[T.Comedy]:budget</th>    <td>  1.76e-05</td> <td> 3.45e-06</td> <td>    5.103</td> <td> 0.000</td> <td> 1.08e-05</td> <td> 2.44e-05</td>\n",
       "</tr>\n",
       "<tr>\n",
       "  <th>genre[T.Crime]:budget</th>     <td>-1.946e-05</td> <td> 6.26e-06</td> <td>   -3.109</td> <td> 0.002</td> <td>-3.17e-05</td> <td>-7.19e-06</td>\n",
       "</tr>\n",
       "<tr>\n",
       "  <th>genre[T.Drama]:budget</th>     <td>-3.784e-06</td> <td> 4.03e-06</td> <td>   -0.939</td> <td> 0.348</td> <td>-1.17e-05</td> <td> 4.12e-06</td>\n",
       "</tr>\n",
       "<tr>\n",
       "  <th>genre[T.Family]:budget</th>    <td>    0.0016</td> <td>    0.000</td> <td>    5.471</td> <td> 0.000</td> <td>    0.001</td> <td>    0.002</td>\n",
       "</tr>\n",
       "<tr>\n",
       "  <th>genre[T.Fantasy]:budget</th>   <td>-4.157e-06</td> <td> 2.01e-05</td> <td>   -0.207</td> <td> 0.836</td> <td>-4.36e-05</td> <td> 3.53e-05</td>\n",
       "</tr>\n",
       "<tr>\n",
       "  <th>genre[T.Horror]:budget</th>    <td> 1.082e-05</td> <td>  1.1e-05</td> <td>    0.982</td> <td> 0.326</td> <td>-1.08e-05</td> <td> 3.24e-05</td>\n",
       "</tr>\n",
       "<tr>\n",
       "  <th>genre[T.Mystery]:budget</th>   <td>-4.179e-05</td> <td> 2.81e-05</td> <td>   -1.488</td> <td> 0.137</td> <td>-9.68e-05</td> <td> 1.33e-05</td>\n",
       "</tr>\n",
       "<tr>\n",
       "  <th>genre[T.Romance]:budget</th>   <td>   -0.0001</td> <td>    0.000</td> <td>   -1.327</td> <td> 0.184</td> <td>   -0.000</td> <td> 6.49e-05</td>\n",
       "</tr>\n",
       "<tr>\n",
       "  <th>genre[T.Sci_Fi]:budget</th>    <td>-4.866e-05</td> <td> 3.57e-05</td> <td>   -1.362</td> <td> 0.173</td> <td>   -0.000</td> <td> 2.14e-05</td>\n",
       "</tr>\n",
       "<tr>\n",
       "  <th>genre[T.Thriller]:budget</th>  <td>    0.0001</td> <td> 8.54e-05</td> <td>    1.603</td> <td> 0.109</td> <td>-3.06e-05</td> <td>    0.000</td>\n",
       "</tr>\n",
       "<tr>\n",
       "  <th>genre[T.Western]:budget</th>   <td>-1.426e-05</td> <td>    0.000</td> <td>   -0.069</td> <td> 0.945</td> <td>   -0.000</td> <td>    0.000</td>\n",
       "</tr>\n",
       "<tr>\n",
       "  <th>year:budget</th>               <td> 1.491e-06</td> <td> 1.63e-07</td> <td>    9.160</td> <td> 0.000</td> <td> 1.17e-06</td> <td> 1.81e-06</td>\n",
       "</tr>\n",
       "<tr>\n",
       "  <th>score</th>                     <td>   -0.0007</td> <td>    0.008</td> <td>   -0.084</td> <td> 0.933</td> <td>   -0.016</td> <td>    0.015</td>\n",
       "</tr>\n",
       "<tr>\n",
       "  <th>score:votes</th>               <td>   -0.0131</td> <td>    0.001</td> <td>  -20.104</td> <td> 0.000</td> <td>   -0.014</td> <td>   -0.012</td>\n",
       "</tr>\n",
       "<tr>\n",
       "  <th>runtime</th>                   <td>   -0.0026</td> <td>    0.007</td> <td>   -0.396</td> <td> 0.692</td> <td>   -0.015</td> <td>    0.010</td>\n",
       "</tr>\n",
       "<tr>\n",
       "  <th>year:runtime</th>              <td>    0.0021</td> <td>    0.004</td> <td>    0.563</td> <td> 0.574</td> <td>   -0.005</td> <td>    0.009</td>\n",
       "</tr>\n",
       "<tr>\n",
       "  <th>score:budget</th>              <td> 1.567e-05</td> <td> 1.97e-06</td> <td>    7.953</td> <td> 0.000</td> <td> 1.18e-05</td> <td> 1.95e-05</td>\n",
       "</tr>\n",
       "<tr>\n",
       "  <th>score:runtime</th>             <td>   -0.4243</td> <td>    0.782</td> <td>   -0.542</td> <td> 0.588</td> <td>   -1.958</td> <td>    1.110</td>\n",
       "</tr>\n",
       "<tr>\n",
       "  <th>votes:budget</th>              <td>  1.97e-11</td> <td>  8.1e-12</td> <td>    2.433</td> <td> 0.015</td> <td> 3.82e-12</td> <td> 3.56e-11</td>\n",
       "</tr>\n",
       "<tr>\n",
       "  <th>votes:runtime</th>             <td> 6.531e-05</td> <td> 1.43e-05</td> <td>    4.556</td> <td> 0.000</td> <td> 3.72e-05</td> <td> 9.34e-05</td>\n",
       "</tr>\n",
       "<tr>\n",
       "  <th>I(votes ** 2)</th>             <td>-1.471e-09</td> <td> 9.26e-10</td> <td>   -1.589</td> <td> 0.112</td> <td>-3.29e-09</td> <td> 3.44e-10</td>\n",
       "</tr>\n",
       "<tr>\n",
       "  <th>I(budget ** 2)</th>            <td>-2.092e-13</td> <td> 2.05e-14</td> <td>  -10.192</td> <td> 0.000</td> <td>-2.49e-13</td> <td>-1.69e-13</td>\n",
       "</tr>\n",
       "</table>\n",
       "<table class=\"simpletable\">\n",
       "<tr>\n",
       "  <th>Omnibus:</th>       <td>545.608</td> <th>  Durbin-Watson:     </th> <td>   1.996</td>\n",
       "</tr>\n",
       "<tr>\n",
       "  <th>Prob(Omnibus):</th> <td> 0.000</td>  <th>  Jarque-Bera (JB):  </th> <td>1826.239</td>\n",
       "</tr>\n",
       "<tr>\n",
       "  <th>Skew:</th>          <td> 0.630</td>  <th>  Prob(JB):          </th> <td>    0.00</td>\n",
       "</tr>\n",
       "<tr>\n",
       "  <th>Kurtosis:</th>      <td> 5.923</td>  <th>  Cond. No.          </th> <td>1.46e+18</td>\n",
       "</tr>\n",
       "</table><br/><br/>Notes:<br/>[1] Standard Errors assume that the covariance matrix of the errors is correctly specified.<br/>[2] The condition number is large, 1.46e+18. This might indicate that there are<br/>strong multicollinearity or other numerical problems."
      ],
      "text/plain": [
       "<class 'statsmodels.iolib.summary.Summary'>\n",
       "\"\"\"\n",
       "                            OLS Regression Results                            \n",
       "==============================================================================\n",
       "Dep. Variable:         np.sqrt(gross)   R-squared:                       0.773\n",
       "Model:                            OLS   Adj. R-squared:                  0.772\n",
       "Method:                 Least Squares   F-statistic:                     586.6\n",
       "Date:                Mon, 13 Mar 2023   Prob (F-statistic):               0.00\n",
       "Time:                        11:35:32   Log-Likelihood:                -40862.\n",
       "No. Observations:                4327   AIC:                         8.178e+04\n",
       "Df Residuals:                    4301   BIC:                         8.194e+04\n",
       "Df Model:                          25                                         \n",
       "Covariance Type:            nonrobust                                         \n",
       "=============================================================================================\n",
       "                                coef    std err          t      P>|t|      [0.025      0.975]\n",
       "---------------------------------------------------------------------------------------------\n",
       "Intercept                    -0.0009      0.000     -5.156      0.000      -0.001      -0.001\n",
       "month[T.August]               0.0014      0.002      0.666      0.506      -0.003       0.006\n",
       "month[T.December]            -0.0001      0.000     -0.705      0.481      -0.001       0.000\n",
       "month[T.February]         -2.302e-05      0.000     -0.151      0.880      -0.000       0.000\n",
       "month[T.January]              0.0001      0.000      0.455      0.649      -0.000       0.001\n",
       "month[T.July]               9.36e-05   2.54e-05      3.687      0.000    4.38e-05       0.000\n",
       "month[T.June]              7.119e-06   6.13e-06      1.160      0.246   -4.91e-06    1.91e-05\n",
       "month[T.March]            -1.773e-05      0.000     -0.085      0.932      -0.000       0.000\n",
       "month[T.May]               3.748e-05   5.15e-05      0.727      0.467   -6.36e-05       0.000\n",
       "month[T.November]         -4.087e-05      0.000     -0.195      0.845      -0.000       0.000\n",
       "month[T.October]           4.519e-05   5.01e-05      0.901      0.367   -5.31e-05       0.000\n",
       "month[T.September]         7.769e-05   4.63e-05      1.677      0.094   -1.32e-05       0.000\n",
       "genre[T.Adventure]         5.445e-05   7.99e-05      0.681      0.496      -0.000       0.000\n",
       "genre[T.Animation]         5.261e-05      0.000      0.365      0.715      -0.000       0.000\n",
       "genre[T.Biography]        -3.651e-05    3.4e-05     -1.075      0.282      -0.000    3.01e-05\n",
       "genre[T.Comedy]               0.0003      0.000      1.725      0.085   -3.44e-05       0.001\n",
       "genre[T.Crime]            -9.392e-05      0.000     -0.423      0.672      -0.001       0.000\n",
       "genre[T.Drama]               -0.0001      0.000     -1.159      0.247      -0.000       0.000\n",
       "genre[T.Family]            1.528e-10   2.79e-11      5.471      0.000     9.8e-11    2.08e-10\n",
       "genre[T.Fantasy]          -2.172e-07    3.2e-05     -0.007      0.995   -6.29e-05    6.24e-05\n",
       "genre[T.Horror]               0.0002      0.000      1.125      0.261      -0.000       0.000\n",
       "genre[T.Mystery]            3.39e-06   6.11e-06      0.555      0.579   -8.58e-06    1.54e-05\n",
       "genre[T.Romance]          -1.478e-06   9.58e-07     -1.542      0.123   -3.36e-06    4.01e-07\n",
       "genre[T.Sci_Fi]           -6.182e-06   1.87e-05     -0.331      0.741   -4.28e-05    3.05e-05\n",
       "genre[T.Thriller]          6.508e-06    1.6e-05      0.406      0.685   -2.49e-05    3.79e-05\n",
       "genre[T.Western]           1.462e-07   5.49e-07      0.267      0.790   -9.29e-07    1.22e-06\n",
       "rating[T.G]                4.675e-05   7.85e-05      0.596      0.551      -0.000       0.000\n",
       "rating[T.NC_17]           -3.127e-06   1.26e-05     -0.248      0.804   -2.79e-05    2.16e-05\n",
       "rating[T.Not_Rated]        1.706e-05   4.94e-05      0.345      0.730   -7.99e-05       0.000\n",
       "rating[T.PG]                 -0.0001      0.001     -0.161      0.872      -0.002       0.001\n",
       "rating[T.PG_13]               0.0005      0.001      0.579      0.563      -0.001       0.002\n",
       "rating[T.R]                9.336e-05      0.000      0.726      0.468      -0.000       0.000\n",
       "rating[T.TV_MA]           -9.068e-07   3.19e-06     -0.284      0.777   -7.17e-06    5.36e-06\n",
       "rating[T.Unrated]         -9.053e-06   4.27e-05     -0.212      0.832   -9.27e-05    7.46e-05\n",
       "rating[T.X]               -3.595e-06   8.08e-06     -0.445      0.656   -1.94e-05    1.22e-05\n",
       "year                          1.0643      0.206      5.159      0.000       0.660       1.469\n",
       "votes                         0.6902      0.072      9.525      0.000       0.548       0.832\n",
       "year:votes                   -0.0003   3.59e-05     -8.047      0.000      -0.000      -0.000\n",
       "budget                       -0.0030      0.000     -9.260      0.000      -0.004      -0.002\n",
       "genre[T.Adventure]:budget  1.549e-05   3.12e-06      4.960      0.000    9.37e-06    2.16e-05\n",
       "genre[T.Animation]:budget  3.935e-05    2.9e-06     13.559      0.000    3.37e-05     4.5e-05\n",
       "genre[T.Biography]:budget -1.736e-05   6.36e-06     -2.730      0.006   -2.98e-05   -4.89e-06\n",
       "genre[T.Comedy]:budget      1.76e-05   3.45e-06      5.103      0.000    1.08e-05    2.44e-05\n",
       "genre[T.Crime]:budget     -1.946e-05   6.26e-06     -3.109      0.002   -3.17e-05   -7.19e-06\n",
       "genre[T.Drama]:budget     -3.784e-06   4.03e-06     -0.939      0.348   -1.17e-05    4.12e-06\n",
       "genre[T.Family]:budget        0.0016      0.000      5.471      0.000       0.001       0.002\n",
       "genre[T.Fantasy]:budget   -4.157e-06   2.01e-05     -0.207      0.836   -4.36e-05    3.53e-05\n",
       "genre[T.Horror]:budget     1.082e-05    1.1e-05      0.982      0.326   -1.08e-05    3.24e-05\n",
       "genre[T.Mystery]:budget   -4.179e-05   2.81e-05     -1.488      0.137   -9.68e-05    1.33e-05\n",
       "genre[T.Romance]:budget      -0.0001      0.000     -1.327      0.184      -0.000    6.49e-05\n",
       "genre[T.Sci_Fi]:budget    -4.866e-05   3.57e-05     -1.362      0.173      -0.000    2.14e-05\n",
       "genre[T.Thriller]:budget      0.0001   8.54e-05      1.603      0.109   -3.06e-05       0.000\n",
       "genre[T.Western]:budget   -1.426e-05      0.000     -0.069      0.945      -0.000       0.000\n",
       "year:budget                1.491e-06   1.63e-07      9.160      0.000    1.17e-06    1.81e-06\n",
       "score                        -0.0007      0.008     -0.084      0.933      -0.016       0.015\n",
       "score:votes                  -0.0131      0.001    -20.104      0.000      -0.014      -0.012\n",
       "runtime                      -0.0026      0.007     -0.396      0.692      -0.015       0.010\n",
       "year:runtime                  0.0021      0.004      0.563      0.574      -0.005       0.009\n",
       "score:budget               1.567e-05   1.97e-06      7.953      0.000    1.18e-05    1.95e-05\n",
       "score:runtime                -0.4243      0.782     -0.542      0.588      -1.958       1.110\n",
       "votes:budget                1.97e-11    8.1e-12      2.433      0.015    3.82e-12    3.56e-11\n",
       "votes:runtime              6.531e-05   1.43e-05      4.556      0.000    3.72e-05    9.34e-05\n",
       "I(votes ** 2)             -1.471e-09   9.26e-10     -1.589      0.112   -3.29e-09    3.44e-10\n",
       "I(budget ** 2)            -2.092e-13   2.05e-14    -10.192      0.000   -2.49e-13   -1.69e-13\n",
       "==============================================================================\n",
       "Omnibus:                      545.608   Durbin-Watson:                   1.996\n",
       "Prob(Omnibus):                  0.000   Jarque-Bera (JB):             1826.239\n",
       "Skew:                           0.630   Prob(JB):                         0.00\n",
       "Kurtosis:                       5.923   Cond. No.                     1.46e+18\n",
       "==============================================================================\n",
       "\n",
       "Notes:\n",
       "[1] Standard Errors assume that the covariance matrix of the errors is correctly specified.\n",
       "[2] The condition number is large, 1.46e+18. This might indicate that there are\n",
       "strong multicollinearity or other numerical problems.\n",
       "\"\"\""
      ]
     },
     "execution_count": 10,
     "metadata": {},
     "output_type": "execute_result"
    }
   ],
   "source": [
    "ols_object = smf.ols(formula = 'np.sqrt(gross)~year*votes+year*budget+score*votes+year*runtime+score*budget+score*runtime+votes*budget+votes*runtime+month+genre*budget+rating+I(votes**2)+I(budget**2)', data = train_filtered)\n",
    "model= ols_object.fit()\n",
    "model.summary()"
   ]
  },
  {
   "cell_type": "markdown",
   "id": "98a51203",
   "metadata": {},
   "source": [
    "The residual plot for our final model is:"
   ]
  },
  {
   "cell_type": "code",
   "execution_count": 9,
   "id": "8887a249",
   "metadata": {},
   "outputs": [
    {
     "data": {
      "text/plain": [
       "Text(0, 0.5, 'Residuals')"
      ]
     },
     "execution_count": 9,
     "metadata": {},
     "output_type": "execute_result"
    },
    {
     "data": {
      "image/png": "[encoded data removed]",
      "text/plain": [
       "<Figure size 504x288 with 1 Axes>"
      ]
     },
     "metadata": {},
     "output_type": "display_data"
    }
   ],
   "source": [
    "pred_gross = model.predict(test)\n",
    "plt.rcParams[\"figure.figsize\"] = (7,4)\n",
    "sns.set(font_scale=1.25)\n",
    "ax = sns.scatterplot(x = model.fittedvalues, y=model.resid,color = 'orange')\n",
    "sns.lineplot(x = [pred_gross.min(),pred_gross.max()],y = [0,0],color = 'blue')\n",
    "plt.xlabel('Fitted values')\n",
    "plt.ylabel('Residuals')"
   ]
  },
  {
   "cell_type": "markdown",
   "id": "53be2e00",
   "metadata": {},
   "source": [
    "We feel that we succeeded in achieving our goal because we were able to create that could be helpful in understanding the association between various characteristics of a movie and the movie's gross revenue. \n",
    "\n",
    "We succeeded in achieving our goal as we created a model that provides information about the association of key characteristics of movies with the gross revenue of the movie and satisfies the important criteria that are necessary for a successful inference model.\n",
    "\n",
    "Based on the residual plot above, our model satisfies the linearity assumption, allowing us to draw accurate conclusions from our linear model about the relationship between the predictors and response. Furthermore, after transformation of the response `gross`, our model now also has constant variance in the error terms, which allows us to correctly estimate the true standard errors and thus p-values (significance level) of the predictors. Furthermore, the indication of little multicollinearity through the VIF values and the removal of influential points further improves the inference ability of our model.\n",
    "\n",
    "We would also say that we were successful in achieving a good model for inference based on the comparison of the RSE to RMSE. While we were not focused on prediction, we decided to use RSE and RMSE as a means to determine if our model was overfitting to the training data. Our RSE and RMSE were 9,389,740 USD and 9,713,880 USD of gross revenue respectively. Given the distribution of the `gross` variable, our RSE and RMSE were fairly low and close to one another, indicating that our model was not overfitting to the data. \n",
    "\n",
    "Lastly, we were successful because we were able to create an interpretable model that can be used to help our stakeholder. By recognizing and removing missing data points, transforming previously unusuable predictors into usable ones, and performing variable selection, we were able to create a model that can benefit our stakeholders."
   ]
  },
  {
   "cell_type": "markdown",
   "id": "1b46343d",
   "metadata": {},
   "source": [
    "## Limitations of the model with regard to inference / prediction"
   ]
  },
  {
   "cell_type": "markdown",
   "id": "c85ead90",
   "metadata": {},
   "source": [
    "If it is inference, will the inference hold for a certain period of time, for a certain subset of population, and / or for certain conditions.\n",
    "\n",
    "If it is prediction, then will it be possible / convenient / expensive for the stakeholders to collect the data relating to the predictors in the model. Using your model, how soon will the stakeholder be able to predict the outcome before the outcome occurs. For example, if the model predicts the number of bikes people will rent in Evanston on a certain day, then how many days before that day will your model be able to make the prediction. This will depend on how soon the data that your model uses becomes available. If you are predicting election results, how many days / weeks / months / years before the election can you predict the results. \n",
    "\n",
    "When will your model become too obsolete to be useful?"
   ]
  },
  {
   "cell_type": "markdown",
   "id": "20e0f110",
   "metadata": {},
   "source": [
    "isabel"
   ]
  },
  {
   "cell_type": "markdown",
   "id": "e75a74a5",
   "metadata": {},
   "source": [
    "- too many variables for interaction terms across entire dataset"
   ]
  },
  {
   "cell_type": "markdown",
   "id": "f6026cb7",
   "metadata": {},
   "source": [
    "## Other sections *(optional)*\n",
    "\n",
    "You are welcome to introduce additional sections or subsections, if required, to address any specific aspects of your project in detail. For example, you may briefly discuss potential future work that the research community could focus on to make further progress in the direction of your project's topic."
   ]
  },
  {
   "cell_type": "markdown",
   "id": "62a185cb",
   "metadata": {},
   "source": [
    "## Conclusions and Recommendations to stakeholder(s)\n",
    "\n",
    "What conclusions do you draw based on your model? If it is inference you may draw conclusions based on the coefficients, statistical significance of predictors / interactions, etc. If it is prediction, you may draw conclusions based on prediction accuracy, or other performance metrics.\n",
    "\n",
    "How do you use those conclusions to come up with meaningful recommendations for stakeholders? The recommendations must be action-items for stakeholders that they can directly implement without any further analysis. Be as precise as possible. The stakeholder(s) are depending on you to come up with practically implementable recommendations, instead of having to think for themselves.\n",
    "\n",
    "If your recommendations are not practically implementable by stakeholders, how will they help them? Is there some additional data / analysis / domain expertise you need to do to make the recommendations implementable? \n",
    "\n",
    "Do the stakeholder(s) need to be aware about some limitations of your model? Is your model only good for one-time use, or is it possible to update your model at a certain frequency (based on recent data) to keep using it in the future? If it can be used in the future, then for how far into the future?"
   ]
  },
  {
   "cell_type": "markdown",
   "id": "4765a53a",
   "metadata": {},
   "source": [
    "artharva"
   ]
  },
  {
   "cell_type": "markdown",
   "id": "9c44497c",
   "metadata": {},
   "source": [
    "## GitHub and individual contribution {-}"
   ]
  },
  {
   "cell_type": "markdown",
   "id": "c98b3f66",
   "metadata": {},
   "source": [
    "Put the **Github link** for the project repository."
   ]
  },
  {
   "cell_type": "markdown",
   "id": "d9289d27",
   "metadata": {},
   "source": [
    "https://github.com/isabelgabrielaknight/final-project-303-2"
   ]
  },
  {
   "cell_type": "markdown",
   "id": "0ca45613",
   "metadata": {},
   "source": [
    "Add details of each team member's contribution in the table below."
   ]
  },
  {
   "cell_type": "markdown",
   "id": "5505da5c",
   "metadata": {},
   "source": [
    "<html>\n",
    "<style>\n",
    "table, td, th {\n",
    "  border: 1px solid black;\n",
    "}\n",
    "\n",
    "table {\n",
    "  border-collapse: collapse;\n",
    "  width: 100%;\n",
    "}\n",
    "\n",
    "th {\n",
    "  text-align: left;\n",
    "}\n",
    "    \n",
    "\n",
    "</style>\n",
    "<body>\n",
    "\n",
    "<h2>Individual contribution</h2>\n",
    "\n",
    "<table style=\"width:100%\">\n",
    "     <colgroup>\n",
    "       <col span=\"1\" style=\"width: 15%;\">\n",
    "       <col span=\"1\" style=\"width: 20%;\">\n",
    "       <col span=\"1\" style=\"width: 50%;\">\n",
    "       <col span=\"1\" style=\"width: 15%;\"> \n",
    "    </colgroup>\n",
    "  <tr>\n",
    "    <th>Team member</th>\n",
    "    <th>Contributed aspects</th>\n",
    "    <th>Details</th>\n",
    "    <th>Number of GitHub commits</th>\n",
    "  </tr>\n",
    "  <tr>\n",
    "    <td>Lily Sorkin</td>\n",
    "    <td>Data quality check, cleaning and preparation</td>\n",
    "    <td>Cleaned data to discard non-informative values and transformed some predictors so that they could be used in model development.</td>\n",
    "    <td>100</td>\n",
    "  </tr>\n",
    "  <tr>\n",
    "    <td>Isabel Knight</td>\n",
    "    <td>EDA</td>\n",
    "    <td>Developed visualizations to identify appropriate variable transformations and important relationships.</td>\n",
    "    <td>120</td>\n",
    "  </tr>\n",
    "    <tr>\n",
    "    <td>Aarti Pappu</td>\n",
    "    <td>Data preparation, influential points treatment, assumptions, interactions, variable selection</td>\n",
    "    <td>Also transformed some predictors so they could be used in model development. Identified and remove influential points from the dataset based on the base model. Checked and addressed linearity and non-constant variance assumptions. Checked for multicollinearity. Performed variable selection on an exhaustive set of predictors in order to develop final model. Also checked for overfitting in the final model.</td>\n",
    "    <td>130</td>    \n",
    "  </tr>\n",
    "    <tr>\n",
    "    <td>Artharva Weling</td>\n",
    "    <td>Conclusions/Recommendations</td>\n",
    "    <td>Identified most significant variables in model to develop important conclusions for stakeholders.</td>\n",
    "    <td>150</td>    \n",
    "  </tr>\n",
    "</table>"
   ]
  },
  {
   "cell_type": "markdown",
   "id": "192bbd23",
   "metadata": {},
   "source": [
    "List the **challenges** you faced when collaborating with the team on GitHub. Are you comfortable using GitHub? \n",
    "Do you feel GitHuB made collaboration easier? If not, then why? *(Individual team members can put their opinion separately, if different from the rest of the team)*"
   ]
  },
  {
   "cell_type": "markdown",
   "id": "c1a74cea",
   "metadata": {},
   "source": [
    "One challenge our team faced when collaborating on GitHub was having conflicts when attempting to merge our work with the main branch. We often didn’t feel we had the capabilities to manually resolve the conflicts, so we often ended up just creating a copy of the document we had modified and added it to the main branch. Another challenge we faced was using the branches that were designated for each team member. Since we often worked on the project one-at-a-time and did not know how to manually resolve conflicts, the branches for each individual team member often went unused as it was much more easier to directly pull and push commits to and from the main branch.\n",
    "\n",
    "Since none of us had any experience with GitHub before this class, we feel slightly more comfortable using GitHub than we did before this class. While it was slightly annoying when there were conflicts and a learning curve, we do think it made collaboration easier since we were able to edit and modify documents and have the rest of our team directly see the edits/modifications."
   ]
  },
  {
   "cell_type": "markdown",
   "id": "00b1cafe",
   "metadata": {},
   "source": [
    "## References {-}"
   ]
  },
  {
   "cell_type": "markdown",
   "id": "ebdb1aad",
   "metadata": {},
   "source": [
    "List and number all bibliographical references. When referenced in the text, enclose the citation number in square brackets, for example [1].\n",
    "\n",
    "[1] Authors. The frobnicatable foo filter, 2014. Face and Gesture submission ID 324. Supplied as additional material\n",
    "fg324.pdf. 3\n"
   ]
  },
  {
   "cell_type": "markdown",
   "id": "5831751c",
   "metadata": {},
   "source": [
    "## Appendix {-}"
   ]
  },
  {
   "cell_type": "markdown",
   "id": "d13d374d",
   "metadata": {},
   "source": [
    "You may put additional stuff here as Appendix. You may refer to the Appendix in the main report to support your arguments. However, the appendix section is unlikely to be checked while grading, unless the grader deems it necessary."
   ]
  },
  {
   "cell_type": "markdown",
   "id": "ac798b98",
   "metadata": {},
   "source": [
    "1. VIF values that determined multicollinearity was not affecting our model:"
   ]
  },
  {
   "cell_type": "code",
   "execution_count": null,
   "id": "51197abd",
   "metadata": {},
   "outputs": [],
   "source": [
    "X = train[['year', 'votes', 'score', 'runtime', 'budget']]\n",
    "\n",
    "from statsmodels.stats.outliers_influence import variance_inflation_factor\n",
    "from statsmodels.tools.tools import add_constant\n",
    "X = add_constant(X)\n",
    "vif_data = pd.DataFrame()\n",
    "vif_data[\"feature\"] = X.columns\n",
    "\n",
    "for i in range(len(X.columns)):\n",
    "    vif_data.loc[i,'VIF'] = variance_inflation_factor(X.values, i)\n",
    "\n",
    "print(vif_data)"
   ]
  },
  {
   "cell_type": "markdown",
   "id": "a1ddb693",
   "metadata": {},
   "source": [
    "2. Scatterplot of np.log(gross) against 'budget' and 'votes' that informed us to add the quadratic transformations of 'budget' and 'votes' to the final model:"
   ]
  },
  {
   "cell_type": "code",
   "execution_count": null,
   "id": "4eaafe45",
   "metadata": {},
   "outputs": [],
   "source": [
    "cols = ['budget','votes']\n",
    "for col in cols:\n",
    "    plt.rcParams[\"figure.figsize\"] = (7,4)\n",
    "    sns.set(font_scale=1.25)\n",
    "    sns.scatterplot(x = col, y = np.log(train.gross), data = train_filtered)\n",
    "    plt.ylabel('log(gross)')\n",
    "    plt.show()"
   ]
  }
 ],
 "metadata": {
  "kernelspec": {
   "display_name": "Python 3 (ipykernel)",
   "language": "python",
   "name": "python3"
  },
  "language_info": {
   "codemirror_mode": {
    "name": "ipython",
    "version": 3
   },
   "file_extension": ".py",
   "mimetype": "text/x-python",
   "name": "python",
   "nbconvert_exporter": "python",
   "pygments_lexer": "ipython3",
   "version": "3.9.12"
  }
 },
 "nbformat": 4,
 "nbformat_minor": 5
}
